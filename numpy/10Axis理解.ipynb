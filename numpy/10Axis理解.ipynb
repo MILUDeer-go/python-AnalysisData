{
 "cells": [
  {
   "cell_type": "markdown",
   "metadata": {},
   "source": [
    "轴（Axis）:每个线性数组都有一个轴，轴即数组的维度。\n",
    "\n",
    "秩（rank）：秩描述数组的维数，即轴的数量；一维数组的秩为1，二维数组的秩为2.\n",
    "\n",
    "在使用时候声明axis,axis=0对列操作，axis=1对行操作"
   ]
  },
  {
   "cell_type": "code",
   "execution_count": 1,
   "metadata": {},
   "outputs": [
    {
     "name": "stdout",
     "output_type": "stream",
     "text": [
      "[[1 2 3]\n",
      " [4 5 6]]\n",
      "[5 7 9]\n",
      "[ 6 15]\n"
     ]
    }
   ],
   "source": [
    "import numpy  as np\n",
    "x = np.array([[1,2,3],[4,5,6]])\n",
    "print(x)\n",
    "# 按列进行求和\n",
    "print(x.sum(axis=0))\n",
    "# 按行求和\n",
    "print(x.sum(axis=1))"
   ]
  },
  {
   "cell_type": "markdown",
   "metadata": {},
   "source": [
    "常见的ndarray的属性\n",
    "ndarray.ndim   秩，轴的数量\n",
    "ndarray.size   数组元素的总个数\n",
    "ndarray.shape  数组的维度\n",
    "ndarray.dtype  数组元素的类型\n",
    "ndaaray.itemsize   每个元素的大小（B）\n",
    "ndarray.data   实际的数组元素"
   ]
  },
  {
   "cell_type": "code",
   "execution_count": 5,
   "metadata": {},
   "outputs": [
    {
     "name": "stdout",
     "output_type": "stream",
     "text": [
      "x.size: 6\n",
      "x.dtype: int32\n",
      "x.itemsize: 4\n",
      "x.data: <memory at 0x000002EE1B39D5F0>\n",
      "x.ndim: 2\n",
      "x.shape: (2, 3)\n"
     ]
    }
   ],
   "source": [
    "import numpy as np\n",
    "x = np.array([[1,2,3],[4,5,6]])\n",
    "print('x.size:', x.size)\n",
    "print('x.dtype:', x.dtype)\n",
    "print('x.itemsize:', x.itemsize)\n",
    "print('x.data:', x.data)\n",
    "print('x.ndim:', x.ndim)\n",
    "print('x.shape:', x.shape)"
   ]
  },
  {
   "cell_type": "code",
   "execution_count": null,
   "metadata": {},
   "outputs": [],
   "source": []
  }
 ],
 "metadata": {
  "interpreter": {
   "hash": "466b9de80b95b86c2aa9dcd9daf50d930599b5cc50e9eafdb9ac8ed285ba6804"
  },
  "kernelspec": {
   "display_name": "Python 3.9.7 ('base')",
   "language": "python",
   "name": "python3"
  },
  "language_info": {
   "codemirror_mode": {
    "name": "ipython",
    "version": 3
   },
   "file_extension": ".py",
   "mimetype": "text/x-python",
   "name": "python",
   "nbconvert_exporter": "python",
   "pygments_lexer": "ipython3",
   "version": "3.9.7"
  }
 },
 "nbformat": 4,
 "nbformat_minor": 2
}
