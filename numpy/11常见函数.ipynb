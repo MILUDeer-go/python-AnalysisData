{
 "cells": [
  {
   "cell_type": "code",
   "execution_count": 9,
   "metadata": {},
   "outputs": [
    {
     "name": "stdout",
     "output_type": "stream",
     "text": [
      "a1 为：[[-2  4 -5  0  1  0  2 -3 -4 -5 -3  4 -1  2  4 -3 -3 -1  4 -2]]\n",
      "a1 的和为：-11\n",
      "a1 的绝对值为：[[2 4 5 0 1 0 2 3 4 5 3 4 1 2 4 3 3 1 4 2]]\n",
      "a1 的平方为：[[ 4 16 25  0  1  0  4  9 16 25  9 16  1  4 16  9  9  1 16  4]]\n",
      "a1 的乘积为：0\n",
      "a1 的平均值为：-0.55\n",
      "a1 的标准差为：2.9912372022292044\n",
      "a1 的方差为：8.947499999999998\n",
      "a1 的最小值为:-5\n",
      "a1 的最大值为:4\n",
      "a1 最小值的索引为：2\n",
      "a1 最大值的索引为：1\n",
      "a1 的中位数为：-1.0\n"
     ]
    }
   ],
   "source": [
    "import numpy as np\n",
    "\n",
    "a1 = np.random.randint(-5,5, size = (1,20))\n",
    "print(f\"a1 为：{a1}\")\n",
    "\n",
    "a2 = np.sum(a1)#求出数组的和\n",
    "print(f\"a1 的和为：{a2}\")\n",
    "\n",
    "a3 = np.abs(a1) # 将a1数组的值全部求其绝对值\n",
    "print(f\"a1 的绝对值为：{a3}\")\n",
    "\n",
    "a4 = np.square(a1) # 求数组的平方\n",
    "print(f\"a1 的平方为：{a4}\")\n",
    "\n",
    "a5 = np.prod(a1) # 计算a1的乘积\n",
    "print(f\"a1 的乘积为：{a5}\")\n",
    "\n",
    "a6 = np.mean(a1) # 计算a1元素的平均值\n",
    "print(f\"a1 的平均值为：{a6}\")\n",
    "\n",
    "a7 = np.std(a1) # 计算元素的标准差\n",
    "print(f\"a1 的标准差为：{a7}\")\n",
    "\n",
    "a8 = np.var(a1) # 计算元素的方差\n",
    "print(f\"a1 的方差为：{a8}\")\n",
    "\n",
    "a9 = np.min(a1) # 计算元素的最小值\n",
    "print(f\"a1 的最小值为:{a9}\")\n",
    "\n",
    "a10 = np.max(a1) # 计算元素的最大值\n",
    "print(f\"a1 的最大值为:{a10}\")\n",
    "\n",
    "a11 = np.argmin(a1) # 找出最小值的索引\n",
    "print(f\"a1 最小值的索引为：{a11}\")\n",
    "\n",
    "a12 = np.argmax(a1) # 找出元素最大值的索引\n",
    "print(f\"a1 最大值的索引为：{a12}\")\n",
    "\n",
    "a13 = np.median(a1) #计算元素的中位数\n",
    "print(f\"a1 的中位数为：{a13}\")"
   ]
  },
  {
   "cell_type": "code",
   "execution_count": 14,
   "metadata": {},
   "outputs": [
    {
     "name": "stdout",
     "output_type": "stream",
     "text": [
      "140 ms ± 24.9 ms per loop (mean ± std. dev. of 7 runs, 1 loop each)\n",
      "1.54 ms ± 33 µs per loop (mean ± std. dev. of 7 runs, 1000 loops each)\n"
     ]
    }
   ],
   "source": [
    "\"\"\"np.random.rand(d0,d1,d2……dn) \n",
    "注：使用方法与np.random.randn()函数相同 \n",
    "作用： \n",
    "通过本函数可以返回一个或一组服从“0~1”均匀分布的随机样本值。随机样本取值范围是\n",
    "[0,1)，不包括1。 \n",
    "应用：在深度学习的Dropout正则化方法中，可以用于生成dropout随机向量（dl），例如\n",
    "（keep_prob表示保留神经元的比例）：dl = np.random.rand(al.shape[0],al.shape[1]) < keep_prob\n",
    "\"\"\"\n",
    "\n",
    "# 使用np.sum或者是a.sum即可实现。并且在使用的时候，可以指定具体哪个轴。\n",
    "# 同样Python中也内置了sum函数，但是Python内置的sum函数执行效率没有np.sum\n",
    "# 那么高,可测试：\n",
    "a = np.random.rand(1000000)\n",
    "%timeit sum(a) #使用Python内置的sum函数求总和，看下所花费的时间\n",
    "%timeit np.sum(a) #使用Numpy的sum函数求和，看下所花费的时间\n"
   ]
  },
  {
   "cell_type": "code",
   "execution_count": 28,
   "metadata": {},
   "outputs": [
    {
     "name": "stdout",
     "output_type": "stream",
     "text": [
      "False\n",
      "False\n",
      "True\n",
      "True\n"
     ]
    }
   ],
   "source": [
    "# np.any\t验证任何一个元素是否为真\n",
    "# np.all\t验证所有元素是否为真\n",
    "a1 = np.array([1,-2,0,1,2])\n",
    "print(np.all(a1==0))#数组中是不是所有元素都为0\n",
    "print((a1==0).all())\n",
    "\n",
    "print(np.any(a1==0))#看数组中是否有等于0的数\n",
    "print((a1==0).any())"
   ]
  },
  {
   "cell_type": "code",
   "execution_count": 27,
   "metadata": {},
   "outputs": [
    {
     "name": "stdout",
     "output_type": "stream",
     "text": [
      "Help on function any in module numpy.core.fromnumeric:\n",
      "\n",
      "any(a, axis=None, out=None, keepdims=<no value>)\n",
      "    Test whether any array element along a given axis evaluates to True.\n",
      "    \n",
      "    Returns single boolean unless `axis` is not ``None``\n",
      "    \n",
      "    Parameters\n",
      "    ----------\n",
      "    a : array_like\n",
      "        Input array or object that can be converted to an array.\n",
      "    axis : None or int or tuple of ints, optional\n",
      "        Axis or axes along which a logical OR reduction is performed.\n",
      "        The default (`axis` = `None`) is to perform a logical OR over all\n",
      "        the dimensions of the input array. `axis` may be negative, in\n",
      "        which case it counts from the last to the first axis.\n",
      "    \n",
      "        .. versionadded:: 1.7.0\n",
      "    \n",
      "        If this is a tuple of ints, a reduction is performed on multiple\n",
      "        axes, instead of a single axis or all the axes as before.\n",
      "    out : ndarray, optional\n",
      "        Alternate output array in which to place the result.  It must have\n",
      "        the same shape as the expected output and its type is preserved\n",
      "        (e.g., if it is of type float, then it will remain so, returning\n",
      "        1.0 for True and 0.0 for False, regardless of the type of `a`).\n",
      "        See `doc.ufuncs` (Section \"Output arguments\") for details.\n",
      "    \n",
      "    keepdims : bool, optional\n",
      "        If this is set to True, the axes which are reduced are left\n",
      "        in the result as dimensions with size one. With this option,\n",
      "        the result will broadcast correctly against the input array.\n",
      "    \n",
      "        If the default value is passed, then `keepdims` will not be\n",
      "        passed through to the `any` method of sub-classes of\n",
      "        `ndarray`, however any non-default value will be.  If the\n",
      "        sub-class' method does not implement `keepdims` any\n",
      "        exceptions will be raised.\n",
      "    \n",
      "    Returns\n",
      "    -------\n",
      "    any : bool or ndarray\n",
      "        A new boolean or `ndarray` is returned unless `out` is specified,\n",
      "        in which case a reference to `out` is returned.\n",
      "    \n",
      "    See Also\n",
      "    --------\n",
      "    ndarray.any : equivalent method\n",
      "    \n",
      "    all : Test whether all elements along a given axis evaluate to True.\n",
      "    \n",
      "    Notes\n",
      "    -----\n",
      "    Not a Number (NaN), positive infinity and negative infinity evaluate\n",
      "    to `True` because these are not equal to zero.\n",
      "    \n",
      "    Examples\n",
      "    --------\n",
      "    >>> np.any([[True, False], [True, True]])\n",
      "    True\n",
      "    \n",
      "    >>> np.any([[True, False], [False, False]], axis=0)\n",
      "    array([ True, False])\n",
      "    \n",
      "    >>> np.any([-1, 0, 5])\n",
      "    True\n",
      "    \n",
      "    >>> np.any(np.nan)\n",
      "    True\n",
      "    \n",
      "    >>> o=np.array([False])\n",
      "    >>> z=np.any([-1, 4, 5], out=o)\n",
      "    >>> z, o\n",
      "    (array([ True]), array([ True]))\n",
      "    >>> # Check now that z is a reference to o\n",
      "    >>> z is o\n",
      "    True\n",
      "    >>> id(z), id(o) # identity of z and o              # doctest: +SKIP\n",
      "    (191614240, 191614240)\n",
      "\n"
     ]
    }
   ],
   "source": [
    "help (np.any)"
   ]
  },
  {
   "cell_type": "code",
   "execution_count": 34,
   "metadata": {},
   "outputs": [
    {
     "name": "stdout",
     "output_type": "stream",
     "text": [
      "[[5 6 1 0 6]\n",
      " [5 6 1 8 2]\n",
      " [4 7 3 8 5]]\n",
      "[[0 1 5 6 6]\n",
      " [1 2 5 6 8]\n",
      " [3 4 5 7 8]]\n",
      "[[4 6 1 0 2]\n",
      " [5 6 1 8 5]\n",
      " [5 7 3 8 6]]\n",
      "[[0 1 5 6 6]\n",
      " [1 2 5 6 8]\n",
      " [3 4 5 7 8]]\n",
      "==============================\n",
      "[[2 9 6 0 9]\n",
      " [9 9 3 0 9]\n",
      " [9 0 4 5 1]]\n"
     ]
    },
    {
     "data": {
      "text/plain": [
       "array([[0, 2, 6, 9, 9],\n",
       "       [0, 3, 9, 9, 9],\n",
       "       [0, 1, 4, 5, 9]])"
      ]
     },
     "execution_count": 34,
     "metadata": {},
     "output_type": "execute_result"
    }
   ],
   "source": [
    "# np.sort：指定轴进行排序。默认是使用数组的最后一个轴进行排序。\n",
    "a = np.random.randint(0,10, size = (3,5))\n",
    "print(a)\n",
    "b = np.sort(a) #按照行进行排序，因为最后一个轴是1，那么就是将最里面的元素进行排序。\n",
    "print(b)\n",
    "c = np.sort(a, axis = 0) # 按照列进行排序，因为指定了axis=0\n",
    "print(c)\n",
    "d = np.sort(a, axis = 1) #按照行进行排序，因为指定了axis=1\n",
    "print(d)\n",
    "print(\"=\"*30)\n",
    "# ndarray.sort()，这个方法会直接影响到原来的数组，而不是返回一个新的排序后的数组。\n",
    "a1 = np.random.randint(0,10, size = (3,5))\n",
    "print(a1)\n",
    "np.ndarray.sort(a1)\n",
    "a1"
   ]
  },
  {
   "cell_type": "code",
   "execution_count": 37,
   "metadata": {},
   "outputs": [
    {
     "name": "stdout",
     "output_type": "stream",
     "text": [
      "[[9 5 8 4 5]\n",
      " [5 2 1 2 5]\n",
      " [4 6 3 8 5]]\n",
      "[[3 1 4 2 0]\n",
      " [2 1 3 0 4]\n",
      " [2 0 4 1 3]]\n"
     ]
    }
   ],
   "source": [
    "# np.argsort：返回排序后的下标值。\n",
    "a = np.random.randint(0,10, size = (3,5))\n",
    "print(a)\n",
    "a1 = np.argsort(a) #默认也是使用最后的一个轴来进行排序。\n",
    "print(a1)"
   ]
  },
  {
   "cell_type": "code",
   "execution_count": 41,
   "metadata": {},
   "outputs": [
    {
     "name": "stdout",
     "output_type": "stream",
     "text": [
      "[[2 3 7 0 7]\n",
      " [0 6 6 4 0]\n",
      " [0 0 1 5 1]]\n",
      "[[7 7 3 2 0]\n",
      " [6 6 4 0 0]\n",
      " [5 1 1 0 0]]\n",
      "[[2 4 1 0 3]\n",
      " [1 2 3 0 4]\n",
      " [3 2 4 0 1]]\n",
      "[[7 7 3 2 0]\n",
      " [3 7 0 2 7]\n",
      " [0 7 7 2 3]]\n"
     ]
    }
   ],
   "source": [
    "# 降序排序：np.sort默认会采用升序排序。如果我们想采用降序排序。\n",
    "a = np.random.randint(0,10, size = (3,5))\n",
    "print(a)\n",
    "# 1. 使用负号\n",
    "a2 = -np.sort(-a)\n",
    "print(a2)\n",
    "\n",
    "# 2. 使用sort和argsort以及take\n",
    "indexes = np.argsort(-a) #排序后的结果就是降序的\n",
    "print(indexes)\n",
    "a4 = np.take(a,indexes) #从a中根据下标提取相应的元素\n",
    "print(a4)"
   ]
  },
  {
   "cell_type": "code",
   "execution_count": 45,
   "metadata": {},
   "outputs": [
    {
     "name": "stdout",
     "output_type": "stream",
     "text": [
      "[[8 2 6 9 9]\n",
      " [9 0 7 7 3]\n",
      " [5 9 5 5 8]]\n",
      "[7.         5.66666667 8.        ]\n"
     ]
    }
   ],
   "source": [
    "# np.apply_along_axis：沿着某个轴执行指定的函数。\n",
    "a = np.random.randint(0,10, size = (3,5))\n",
    "print(a)\n",
    "# 求数组a按行求均值，并且要去掉最大值和最小值。\n",
    "\n",
    "a4 = np.apply_along_axis(lambda x:x[(x != x.max()) & (x != x.min())].mean(),axis=1,arr=a)\n",
    "print(a4)"
   ]
  },
  {
   "cell_type": "code",
   "execution_count": 48,
   "metadata": {},
   "outputs": [
    {
     "name": "stdout",
     "output_type": "stream",
     "text": [
      "[ 0.          1.11111111  2.22222222  3.33333333  4.44444444  5.55555556\n",
      "  6.66666667  7.77777778  8.88888889 10.        ]\n"
     ]
    }
   ],
   "source": [
    "# np.linspace：用来将指定区间内的值平均分成多少份。\n",
    "# 将0-10分成12分，生成一个数组\n",
    "a = np.linspace(0,10,10)\n",
    "print(a)"
   ]
  },
  {
   "cell_type": "code",
   "execution_count": 49,
   "metadata": {},
   "outputs": [
    {
     "data": {
      "text/plain": [
       "(array([1, 2, 3, 4]), array([1, 2, 2, 2], dtype=int64))"
      ]
     },
     "execution_count": 49,
     "metadata": {},
     "output_type": "execute_result"
    }
   ],
   "source": [
    "# np.unique：返回数组中的唯一值。\n",
    "a = np.array([1,2,3,3,2,4,4,])\n",
    "# 返回数组a中的唯一值，并且会返回每个唯一值出现的次数。\n",
    "np.unique(a,return_counts=True)"
   ]
  }
 ],
 "metadata": {
  "kernelspec": {
   "display_name": "Python 3",
   "language": "python",
   "name": "python3"
  },
  "language_info": {
   "codemirror_mode": {
    "name": "ipython",
    "version": 3
   },
   "file_extension": ".py",
   "mimetype": "text/x-python",
   "name": "python",
   "nbconvert_exporter": "python",
   "pygments_lexer": "ipython3",
   "version": "3.7.0"
  }
 },
 "nbformat": 4,
 "nbformat_minor": 2
}
