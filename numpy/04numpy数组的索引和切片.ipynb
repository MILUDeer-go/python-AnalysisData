{
 "cells": [
  {
   "cell_type": "code",
   "execution_count": 6,
   "metadata": {},
   "outputs": [
    {
     "name": "stdout",
     "output_type": "stream",
     "text": [
      "获取下表为1的元素a1[1]：2\n",
      "获取下表为1行的数据(a2[1]):[5 6 7 8]\n"
     ]
    }
   ],
   "source": [
    "# 1.获取某行的数据（一维数组）\n",
    "import numpy as np\n",
    "a1 = np.arange(1, 29)\n",
    "print(f\"获取下表为1的元素a1[1]：{a1[1]}\")\n",
    "\n",
    "a2 = np.arange(1, 13).reshape((3, 4))\n",
    "\n",
    "print(f\"获取下表为1行的数据(a2[1]):{a2[1]}\")\n"
   ]
  },
  {
   "cell_type": "code",
   "execution_count": 7,
   "metadata": {},
   "outputs": [
    {
     "name": "stdout",
     "output_type": "stream",
     "text": [
      "[[ 0  1  2  3  4  5]\n",
      " [ 6  7  8  9 10 11]\n",
      " [12 13 14 15 16 17]\n",
      " [18 19 20 21 22 23]]\n",
      "[[ 0  1  2  3  4  5]\n",
      " [ 6  7  8  9 10 11]]\n",
      "[[ 0  1  2  3  4  5]\n",
      " [12 13 14 15 16 17]\n",
      " [18 19 20 21 22 23]]\n",
      "[[18 19 20 21 22 23]\n",
      " [12 13 14 15 16 17]]\n"
     ]
    }
   ],
   "source": [
    "# 2.获取连续几行的数据\n",
    "a1 = np.arange(0, 24).reshape((4,6))\n",
    "print(a1)\n",
    "print(a1[0:2])  #获取0行到1行的数据\n",
    "\n",
    "# 1.获取不连续的几行数据\n",
    "print(a1[[0, 2, 3]])\n",
    "\n",
    "# 2.也可以用复数来索引\n",
    "print(a1[[-1, -2]])"
   ]
  },
  {
   "cell_type": "code",
   "execution_count": 9,
   "metadata": {},
   "outputs": [
    {
     "name": "stdout",
     "output_type": "stream",
     "text": [
      "7\n",
      "[[0 1]\n",
      " [6 7]]\n",
      "[ 9 16]\n"
     ]
    }
   ],
   "source": [
    "# 3.获取某行某列的数据\n",
    "a1 = np.arange(0,24).reshape((4,6))\n",
    "print(a1[1,1]) # 获取1行1列的数据\n",
    "\n",
    "# 获取0-1行0-1列的数据\n",
    "print(a1[0:2,0:2])\n",
    "\n",
    "# 获取（1，3）和（2，4）的两个数据，也叫花式索引\n",
    "print(a1[[1,2], [3,4]])"
   ]
  },
  {
   "cell_type": "code",
   "execution_count": 19,
   "metadata": {},
   "outputs": [
    {
     "name": "stdout",
     "output_type": "stream",
     "text": [
      "[ 1  7 13 19]\n"
     ]
    }
   ],
   "source": [
    "# 4.获取某列的数据\n",
    "a1 = np.arange(0,24).reshape((4,6))\n",
    "print(a1[:,1]) #获取第1列的数据\n"
   ]
  },
  {
   "cell_type": "code",
   "execution_count": 20,
   "metadata": {},
   "outputs": [
    {
     "name": "stdout",
     "output_type": "stream",
     "text": [
      "[[ True  True  True  True  True  True]\n",
      " [ True  True  True  True False False]\n",
      " [False False False False False False]\n",
      " [False False False False False False]]\n"
     ]
    }
   ],
   "source": [
    "# 5.布尔索引（布尔索引运算是矢量的）\n",
    "a1 = np.arange(0,24).reshape((4,6))\n",
    "print(a1<10)#会返回一个新的数组，这个数组中的值全部都是bool类型\n",
    "\n"
   ]
  },
  {
   "cell_type": "code",
   "execution_count": 23,
   "metadata": {},
   "outputs": [
    {
     "name": "stdout",
     "output_type": "stream",
     "text": [
      "[0 1 2 3 4 5 6 7 8 9]\n",
      "[ 0  1  2  3  4 11 12 13 14 15 16 17 18 19 20 21 22 23]\n",
      "[ 5  6  7  8  9 10]\n"
     ]
    }
   ],
   "source": [
    "# 6.提取列表中的数据\n",
    "a1 = np.arange(0,24).reshape(4,6)\n",
    "a2 = a1 < 10\n",
    "#这样就会在a1中把a2中为True的元素对应的位置的值提取出来\n",
    "print(a1[a2])\n",
    "\n",
    "# 其中布尔运算可以有!=、==、>、<、>=、<=以及&(与)和|(或)。示例代码如下：\n",
    "a1 = np.arange(0, 24).reshape((4, 6))\n",
    "a2 = a1[(a1 < 5) | (a1 > 10)]\n",
    "print(a2)\n",
    "\n",
    "a3 = a1[(a1 >= 5) & (a1 <=  10)]\n",
    "print(a3)"
   ]
  },
  {
   "cell_type": "code",
   "execution_count": 30,
   "metadata": {},
   "outputs": [
    {
     "name": "stdout",
     "output_type": "stream",
     "text": [
      "[[ 0  1  2  3  4  5]\n",
      " [ 0  0  0  0  0  0]\n",
      " [12 13 14 15 16 17]\n",
      " [18 19 20 21 22 23]]\n",
      "[[ 0  0  0  0  0  5]\n",
      " [ 6  7  8  9 10 11]\n",
      " [12 13 14 15 16 17]\n",
      " [18 19 20 21 22 23]]\n",
      "[[1 1 1 1 1 1]\n",
      " [1 1 1 1 0 0]\n",
      " [0 0 0 0 0 0]\n",
      " [0 0 0 0 0 0]]\n"
     ]
    }
   ],
   "source": [
    "# 7.利用索引进行值的替换\n",
    "a1 = np.arange(0,24).reshape((4,6))\n",
    "a1[1] = 0  #将第1行的所有值都替换成0\n",
    "print(a1)\n",
    "\n",
    "# 可以使用条件索引来实现\n",
    "a1 = np.arange(0,24).reshape((4,6))#将小于5的所有值全部都替换成0\n",
    "a1[a1 < 5] = 0\n",
    "print(a1)\n",
    "\n",
    "# where函数：\n",
    "a1 = np.arange(0,24).reshape((4,6))\n",
    "a2 = np.where(a1 < 10,1,0) #把a1中所有小于10的数全部变成1，其余的变成0\n",
    "print(a2)"
   ]
  },
  {
   "cell_type": "markdown",
   "metadata": {},
   "source": [
    "将np.arange(10)数组中的奇数全部都替换成-1。\n",
    "\n",
    "有一个4行4列的数组（比如：np.random.randint(0,10,size=(4,4))），\n",
    "请将其中对角线的数取出来形成一个一维数组。提示（使用np.eye）。\n",
    "\n",
    "有一个4行4列的数组，请取出其中(0,0),(1,2),(3,2)的点。\n",
    "\n",
    "有一个4行4列的数组，请取出其中2-3行（包括第3行）的所有数据。\n",
    "\n",
    "有一个8行9列的数组，请将其中1-5行（包含第5行）的第8列大于3的数全部都取出来。"
   ]
  },
  {
   "cell_type": "code",
   "execution_count": 42,
   "metadata": {},
   "outputs": [
    {
     "name": "stdout",
     "output_type": "stream",
     "text": [
      "[0 0 2 0 4 0 6 0 8 0]\n"
     ]
    }
   ],
   "source": [
    "import numpy as np\n",
    "a1 = np.arange(10)\n",
    "a1[a1%2 != 0] = 0 \n",
    "print(a1  )\n",
    "\n"
   ]
  },
  {
   "cell_type": "code",
   "execution_count": 40,
   "metadata": {},
   "outputs": [
    {
     "name": "stdout",
     "output_type": "stream",
     "text": [
      "Help on function eye in module numpy.lib.twodim_base:\n",
      "\n",
      "eye(N, M=None, k=0, dtype=<class 'float'>, order='C')\n",
      "    Return a 2-D array with ones on the diagonal and zeros elsewhere.\n",
      "    \n",
      "    Parameters\n",
      "    ----------\n",
      "    N : int\n",
      "      Number of rows in the output.\n",
      "    M : int, optional\n",
      "      Number of columns in the output. If None, defaults to `N`.\n",
      "    k : int, optional\n",
      "      Index of the diagonal: 0 (the default) refers to the main diagonal,\n",
      "      a positive value refers to an upper diagonal, and a negative value\n",
      "      to a lower diagonal.\n",
      "    dtype : data-type, optional\n",
      "      Data-type of the returned array.\n",
      "    order : {'C', 'F'}, optional\n",
      "        Whether the output should be stored in row-major (C-style) or\n",
      "        column-major (Fortran-style) order in memory.\n",
      "    \n",
      "        .. versionadded:: 1.14.0\n",
      "    \n",
      "    Returns\n",
      "    -------\n",
      "    I : ndarray of shape (N,M)\n",
      "      An array where all elements are equal to zero, except for the `k`-th\n",
      "      diagonal, whose values are equal to one.\n",
      "    \n",
      "    See Also\n",
      "    --------\n",
      "    identity : (almost) equivalent function\n",
      "    diag : diagonal 2-D array from a 1-D array specified by the user.\n",
      "    \n",
      "    Examples\n",
      "    --------\n",
      "    >>> np.eye(2, dtype=int)\n",
      "    array([[1, 0],\n",
      "           [0, 1]])\n",
      "    >>> np.eye(3, k=1)\n",
      "    array([[ 0.,  1.,  0.],\n",
      "           [ 0.,  0.,  1.],\n",
      "           [ 0.,  0.,  0.]])\n",
      "\n"
     ]
    }
   ],
   "source": [
    "help(np.eye)"
   ]
  }
 ],
 "metadata": {
  "kernelspec": {
   "display_name": "Python 3",
   "language": "python",
   "name": "python3"
  },
  "language_info": {
   "codemirror_mode": {
    "name": "ipython",
    "version": 3
   },
   "file_extension": ".py",
   "mimetype": "text/x-python",
   "name": "python",
   "nbconvert_exporter": "python",
   "pygments_lexer": "ipython3",
   "version": "3.7.0"
  }
 },
 "nbformat": 4,
 "nbformat_minor": 2
}
