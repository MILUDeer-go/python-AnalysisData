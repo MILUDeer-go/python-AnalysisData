{
 "cells": [
  {
   "cell_type": "code",
   "execution_count": 3,
   "metadata": {},
   "outputs": [
    {
     "name": "stdout",
     "output_type": "stream",
     "text": [
      "[[0.13427698 0.10836673 0.0287774  0.61570509]\n",
      " [0.11584472 0.09640898 0.67060323 0.12164019]\n",
      " [0.04710026 0.76500343 0.34528589 0.91579979]]\n",
      "[[1.34276984 1.08366726 0.28777404 6.15705091]\n",
      " [1.15844719 0.96408981 6.70603232 1.21640185]\n",
      " [0.47100261 7.65003432 3.45285891 9.15799793]]\n",
      "[[1.34 1.08 0.29 6.16]\n",
      " [1.16 0.96 6.71 1.22]\n",
      " [0.47 7.65 3.45 9.16]]\n"
     ]
    }
   ],
   "source": [
    "# 1.数组与数的计算在Python列表中，想要对列表中所有的元素都加一个数，要么采用map函数，\n",
    "#要么循环整个列表进行操作。但是NumPy中的数组可以直接在数组上进行操作。\n",
    "\n",
    "\n",
    "import numpy as np\n",
    "a1 = np.random.random((3,4))\n",
    "print(a1)\n",
    "# 如果想要在a1数组上所有元素都乘以10，那么可以通过以下来实现\n",
    "a2 = a1*10\n",
    "print(a2)\n",
    "# 也可以使用round让所有的元素只保留2位小数\n",
    "a3 = a2.round(2)\n",
    "print(a3)\n",
    "\n",
    "# 以上例子是相乘，其实相加、相减、相除也都是类似的。"
   ]
  },
  {
   "cell_type": "code",
   "execution_count": 4,
   "metadata": {},
   "outputs": [
    {
     "name": "stdout",
     "output_type": "stream",
     "text": [
      "[[ 0  1  2  3  4  5  6  7]\n",
      " [ 8  9 10 11 12 13 14 15]\n",
      " [16 17 18 19 20 21 22 23]]\n",
      "[[5 2 1 1 5 3 5 4]\n",
      " [9 5 9 3 3 4 4 6]\n",
      " [1 5 9 8 8 9 7 9]]\n",
      "[[ 5  3  3  4  9  8 11 11]\n",
      " [17 14 19 14 15 17 18 21]\n",
      " [17 22 27 27 28 30 29 32]]\n"
     ]
    }
   ],
   "source": [
    "# 2.数组与数组的计算\n",
    "# 2.1结构相同的数组计算\n",
    "a1 = np.arange(0, 24).reshape((3,8))\n",
    "a2 = np.random.randint(1,10,size=(3,8))\n",
    "# 相加，相乘，相除都可以\n",
    "a3 = a1 + a2 \n",
    "print(a1)\n",
    "print(a2)\n",
    "print(a3)"
   ]
  },
  {
   "cell_type": "code",
   "execution_count": 6,
   "metadata": {},
   "outputs": [
    {
     "name": "stdout",
     "output_type": "stream",
     "text": [
      "[[17 14 10 15 11 10 19 14]\n",
      " [13 17 14 17 12 13 17 14]\n",
      " [15 11 14 17 18 15 13 12]]\n",
      "[[3]\n",
      " [6]\n",
      " [5]]\n",
      "[[14 11  7 12  8  7 16 11]\n",
      " [ 7 11  8 11  6  7 11  8]\n",
      " [10  6  9 12 13 10  8  7]]\n"
     ]
    }
   ],
   "source": [
    "# 2.2与行数相同并且只有1列的数组之间的运算\n",
    "a1 = np.random.randint(10,20,size = (3, 8))\n",
    "a2 = np.random.randint(1,10, size = (3, 1))\n",
    "a3 = a1 - a2 #行数相同，且a2只有1列，能互相运算\n",
    "print(a1)\n",
    "print(a2)\n",
    "print(a3)"
   ]
  },
  {
   "cell_type": "code",
   "execution_count": 7,
   "metadata": {},
   "outputs": [
    {
     "name": "stdout",
     "output_type": "stream",
     "text": [
      "[[12 16 19 12 12 12 11 14]\n",
      " [12 10 15 10 11 11 14 15]\n",
      " [11 18 18 16 12 12 13 11]]\n",
      "[[8 5 7 6 9 7 7 7]]\n",
      "[[ 4 11 12  6  3  5  4  7]\n",
      " [ 4  5  8  4  2  4  7  8]\n",
      " [ 3 13 11 10  3  5  6  4]]\n"
     ]
    }
   ],
   "source": [
    "# 2.3与列数相同并且只有1行的数组之间的运算\n",
    "a1 = np.random.randint(10,20,size = (3, 8))\n",
    "a2 = np.random.randint(1,10, size = (1, 8))\n",
    "a3 = a1 - a2\n",
    "print(a1)\n",
    "print(a2)\n",
    "print(a3)\n"
   ]
  },
  {
   "cell_type": "markdown",
   "metadata": {},
   "source": [
    "# 广播原则：\n",
    "\n",
    "如果两个数组的后缘维度（trailing dimension，即从末尾开始算起的维度）的轴长度相符或其中一方的长度为1，则认为他们是广播兼容的。广播会在缺失和（或）长度为1的维度上进行。。看以下案例分析：\n",
    "\n",
    "shape为(3,8,2)的数组能和(8,3)的数组进行运算吗？\n",
    "分析：不能，因为按照广播原则，从后面往前面数，(3,8,2)和(8,3)中的2和3不相等，所以不能进行运算。\n",
    "\n",
    "shape为(3,8,2)的数组能和(8,1)的数组进行运算吗？\n",
    "分析：能，因为按照广播原则，从后面往前面数，(3,8,2)和(8,1)中的2和1虽然不相等，但是因为有一方的长度为1，所以能参与运算。\n",
    "\n",
    "shape为(3,1,8)的数组能和(8,1)的数组进行运算吗？\n",
    "分析：能，因为按照广播原则，从后面往前面数，(3,1,4)和(8,1)中的4和1虽然不相等且1和8不相等，但是因为这两项中有一方的长度为1，所以能参与运算。\n",
    "\n"
   ]
  },
  {
   "cell_type": "code",
   "execution_count": 10,
   "metadata": {},
   "outputs": [
    {
     "name": "stdout",
     "output_type": "stream",
     "text": [
      "[[[10 11 12 14 13 13 17 14]\n",
      "  [13 18 11 11 14 16 17 14]\n",
      "  [11 10 14 11 10 19 13 12]]\n",
      "\n",
      " [[17 11 17 13 18 12 17 12]\n",
      "  [14 17 16 13 17 14 14 19]\n",
      "  [15 16 13 14 12 13 11 14]]]\n"
     ]
    }
   ],
   "source": [
    "a1 = np.random.randint(10,20,size = (2, 3 , 8))\n",
    "print(a1)"
   ]
  },
  {
   "cell_type": "code",
   "execution_count": 13,
   "metadata": {},
   "outputs": [
    {
     "name": "stdout",
     "output_type": "stream",
     "text": [
      "[[0 1 6 8 0 8]\n",
      " [1 3 0 2 5 6]]\n"
     ]
    },
    {
     "data": {
      "text/plain": [
       "array([[7, 6, 8, 7, 0, 4],\n",
       "       [6, 8, 3, 4, 7, 2]])"
      ]
     },
     "execution_count": 13,
     "metadata": {},
     "output_type": "execute_result"
    }
   ],
   "source": [
    "# 3.1修改数组的形状reshape是将数组转换成指定的形状，然后返回转换后的结果，\n",
    "#对于原数组的形状是不会发生改变的。resize是将数组转换成指定的形状，\n",
    "#会直接修改数组本身。并不会返回任何值。\n",
    "a1 = np.random.randint(0, 10, size = (3,4))\n",
    "a2 = a1.reshape((2, 6))\n",
    "print(a2)\n",
    "\n",
    "a3 = np.random.randint(0, 10,size = (3,4))\n",
    "a3.resize((2, 6))\n",
    "a3"
   ]
  },
  {
   "cell_type": "code",
   "execution_count": 15,
   "metadata": {},
   "outputs": [
    {
     "name": "stdout",
     "output_type": "stream",
     "text": [
      "[[1 2]\n",
      " [3 4]]\n",
      "[[  1 100]\n",
      " [  3   4]]\n"
     ]
    }
   ],
   "source": [
    "\"\"\"3.2 flatten和ravel方法,两个方法都是将多维数组转换为一维数组，\n",
    "       flatten是将数组转换为一维数组后，然后将这个拷贝返回回去，\n",
    "所以后续对这个返回值进行修改不会影响之前的数组。\n",
    "       ravel是将数组转换为一维数组后，将这个视图（可以理解为引用）\n",
    "返回回去，所以后续对这个返回值进行修改会影响之前的数组。\n",
    "\"\"\"\n",
    "x = np.array([[1, 2],[3, 4]])\n",
    "x.flatten()[1] = 100 #此时的x[0]的位置元素还是1\n",
    "print(x)\n",
    "x.ravel()[1] = 100 #此时x[0]的位置元素是100\n",
    "print(x)"
   ]
  },
  {
   "cell_type": "code",
   "execution_count": 18,
   "metadata": {},
   "outputs": [
    {
     "name": "stdout",
     "output_type": "stream",
     "text": [
      "[[3 3 4 2 3]\n",
      " [5 1 2 4 7]\n",
      " [4 2 2 9 1]]\n"
     ]
    },
    {
     "data": {
      "text/plain": [
       "array([[3, 3, 4, 2, 3],\n",
       "       [5, 1, 2, 4, 7],\n",
       "       [4, 2, 2, 9, 1],\n",
       "       [2, 3, 0, 2, 3]])"
      ]
     },
     "execution_count": 18,
     "metadata": {},
     "output_type": "execute_result"
    }
   ],
   "source": [
    "# 4.1如果有多个数组想要组合在一起，也可以通过其中的一些函数来实现。\n",
    "\n",
    "# vstack：将数组按垂直方向进行叠加。数组的列数必须相同才能叠加。\n",
    "a1 = np.random.randint(0, 10, size =(3, 5))\n",
    "a2 = np.random.randint(0, 5, size = (1, 5))\n",
    "print(a1)\n",
    "a3 = np.vstack([a1, a2])\n",
    "a3"
   ]
  },
  {
   "cell_type": "code",
   "execution_count": 21,
   "metadata": {},
   "outputs": [
    {
     "data": {
      "text/plain": [
       "array([[3, 2, 3, 0, 1, 2, 3, 4],\n",
       "       [1, 2, 3, 5, 6, 7, 8, 9]])"
      ]
     },
     "execution_count": 21,
     "metadata": {},
     "output_type": "execute_result"
    }
   ],
   "source": [
    "# 4.2 hstack：将数组按水平方向进行叠加。数组的行必须相同才能叠加。\n",
    "a1 = np.array([[3,2,3],[1,2,3]])\n",
    "a2 = np.arange(0,10).reshape((2,5))\n",
    "a3 = np.hstack([a1, a2])\n",
    "a3"
   ]
  },
  {
   "cell_type": "code",
   "execution_count": 23,
   "metadata": {},
   "outputs": [
    {
     "name": "stdout",
     "output_type": "stream",
     "text": [
      "[[1 2]\n",
      " [3 4]\n",
      " [5 6]]\n",
      "[[1 2 5]\n",
      " [3 4 6]]\n",
      "[1 2 3 4 5 6]\n"
     ]
    }
   ],
   "source": [
    "\"\"\"4.3concatenate([],axis)：将两个数组进行叠加，但是具体是按水平方向\n",
    "还是按垂直方向。则要看axis的参数，如果axis=0，\n",
    "那么代表的是往垂直方向（行）叠加，\n",
    "如果axis=1，那么代表的是往水平方向（列）上叠加，\n",
    "如果axis=None，那么会将两个数组组合成一个一维数组。\n",
    "需要注意的是，如果往水平方向上叠加，那么行必须相同，\n",
    "如果是往垂直方向叠加，那么列必须相同。\"\"\"\n",
    "\n",
    "a = np.array([[1, 2], [3, 4]])\n",
    "b = np.array([[5, 6]])\n",
    "c = np.concatenate((a, b), axis=0)\n",
    "print(c)\n",
    "d = np.concatenate((a,b.T), axis = 1)\n",
    "print(d)\n",
    "e = np.concatenate((a,b), axis = None)\n",
    "print(e)"
   ]
  },
  {
   "cell_type": "code",
   "execution_count": 31,
   "metadata": {},
   "outputs": [
    {
     "name": "stdout",
     "output_type": "stream",
     "text": [
      "[[ 6  5 13  7]\n",
      " [ 0 11 13 12]\n",
      " [ 2 13  3 10]\n",
      " [ 6  6  7 11]]\n",
      "[array([[ 6,  5],\n",
      "       [ 0, 11],\n",
      "       [ 2, 13],\n",
      "       [ 6,  6]]), array([[13,  7],\n",
      "       [13, 12],\n",
      "       [ 3, 10],\n",
      "       [ 7, 11]])]\n",
      "[array([[6],\n",
      "       [0],\n",
      "       [2],\n",
      "       [6]]), array([[ 5],\n",
      "       [11],\n",
      "       [13],\n",
      "       [ 6]]), array([[13,  7],\n",
      "       [13, 12],\n",
      "       [ 3, 10],\n",
      "       [ 7, 11]])]\n"
     ]
    }
   ],
   "source": [
    "# 4.数组的切割\n",
    "# 4.1 hsplit：按照水平方向进行切割。用于指定分割成几列，\n",
    "#可以使用数字来代表分成几部分，也可以使用数组来代表分割的地方。\n",
    "a1 = np.random.randint(0,16,size = (4,4))\n",
    "print(a1)\n",
    "a2 = np.hsplit(a1,2) # 分割成两部分\n",
    "print(a2)\n",
    "a3 = np.hsplit(a1, [1,2])\n",
    "##代表在下标为1的地方切一刀，下标为2的地方切一刀，分成三部分\n",
    "print(a3)"
   ]
  },
  {
   "cell_type": "code",
   "execution_count": 32,
   "metadata": {},
   "outputs": [
    {
     "name": "stdout",
     "output_type": "stream",
     "text": [
      "[[ 4 13 11  8]\n",
      " [ 5 11  3 12]\n",
      " [ 8 15  6  1]\n",
      " [ 9  0 10 14]]\n",
      "[array([[ 4, 13, 11,  8],\n",
      "       [ 5, 11,  3, 12]]), array([[ 8, 15,  6,  1],\n",
      "       [ 9,  0, 10, 14]])]\n",
      "[array([[ 4, 13, 11,  8]]), array([[ 5, 11,  3, 12]]), array([[ 8, 15,  6,  1],\n",
      "       [ 9,  0, 10, 14]])]\n"
     ]
    }
   ],
   "source": [
    "# 4.2vsplit：按照垂直方向进行切割。用于指定分割成几行，\n",
    "#可以使用数字来代表分成几部分，也可以使用数组来代表分割的地方。\n",
    "a1 = np.random.randint(0,16,size = (4,4))\n",
    "print(a1)\n",
    "a2 = np.vsplit(a1,2) # 分割成两部分\n",
    "print(a2)\n",
    "a3 = np.vsplit(a1, [1,2])\n",
    "##代表在下标为1的地方切一刀，下标为2的地方切一刀，分成三部分\n",
    "print(a3)"
   ]
  },
  {
   "cell_type": "code",
   "execution_count": 33,
   "metadata": {},
   "outputs": [
    {
     "name": "stdout",
     "output_type": "stream",
     "text": [
      "[[ 7  1  3 12]\n",
      " [11  1  1  1]\n",
      " [13 11 11  2]\n",
      " [15  7  1  2]]\n",
      "[array([[ 7,  1,  3, 12],\n",
      "       [11,  1,  1,  1]]), array([[13, 11, 11,  2],\n",
      "       [15,  7,  1,  2]])]\n",
      "[array([[ 7,  1],\n",
      "       [11,  1],\n",
      "       [13, 11],\n",
      "       [15,  7]]), array([[ 3, 12],\n",
      "       [ 1,  1],\n",
      "       [11,  2],\n",
      "       [ 1,  2]])]\n"
     ]
    }
   ],
   "source": [
    "# 4.3 split/array_split(array,indicate_or_seciont,axis)：\n",
    "# 用于指定切割方式，在切割的时候需要指定是按照行还是按照列，\n",
    "# axis=1代表按照列，axis=0代表按照行。\n",
    "a1 = np.random.randint(0,16,size = (4,4))\n",
    "print(a1)\n",
    "a2 = np.array_split(a1,2,axis = 0)#按照垂直方向切割成2部分\n",
    "print(a2)\n",
    "a3 = np.array_split(a1,2,axis = 1)#按照水平方向切割成2部分\n",
    "print(a3)"
   ]
  },
  {
   "cell_type": "code",
   "execution_count": 34,
   "metadata": {},
   "outputs": [
    {
     "name": "stdout",
     "output_type": "stream",
     "text": [
      "[[ 0  1  2  3  4  5]\n",
      " [ 6  7  8  9 10 11]\n",
      " [12 13 14 15 16 17]\n",
      " [18 19 20 21 22 23]]\n",
      "[[ 0  6 12 18]\n",
      " [ 1  7 13 19]\n",
      " [ 2  8 14 20]\n",
      " [ 3  9 15 21]\n",
      " [ 4 10 16 22]\n",
      " [ 5 11 17 23]]\n"
     ]
    }
   ],
   "source": [
    "# 5.数组（矩阵）转置和轴对换\n",
    "# 5.1numpy中的数组其实就是线性代数中的矩阵。矩阵是可以进行转置的。\n",
    "#ndarray有一个T属性，可以返回这个数组的转置的结果。\n",
    "a1 = np.arange(0, 24).reshape((4, 6))\n",
    "print(a1)\n",
    "a2 = a1.T\n",
    "print(a2)"
   ]
  },
  {
   "cell_type": "code",
   "execution_count": 37,
   "metadata": {},
   "outputs": [
    {
     "name": "stdout",
     "output_type": "stream",
     "text": [
      "[[ 0  1  2  3  4  5]\n",
      " [ 6  7  8  9 10 11]\n",
      " [12 13 14 15 16 17]\n",
      " [18 19 20 21 22 23]]\n",
      "[[ 0  6 12 18]\n",
      " [ 1  7 13 19]\n",
      " [ 2  8 14 20]\n",
      " [ 3  9 15 21]\n",
      " [ 4 10 16 22]\n",
      " [ 5 11 17 23]]\n",
      "[[ 0  1  2  3  4  5]\n",
      " [ 6  7  8  9 10 11]\n",
      " [12 13 14 15 16 17]\n",
      " [18 19 20 21 22 23]]\n"
     ]
    }
   ],
   "source": [
    "# 5.2 还有一个方法叫做transpose，这个方法返回的是一个View，\n",
    "# 5.3 也即修改返回值，会影响到原来数组。\n",
    "a1 = np.arange(0, 24).reshape((4, 6))\n",
    "print(a1)\n",
    "a2 = a1.transpose()\n",
    "print(a2)\n",
    "print(a1)"
   ]
  },
  {
   "cell_type": "code",
   "execution_count": 39,
   "metadata": {},
   "outputs": [
    {
     "name": "stdout",
     "output_type": "stream",
     "text": [
      "[[ 0  1  2  3  4  5]\n",
      " [ 6  7  8  9 10 11]\n",
      " [12 13 14 15 16 17]\n",
      " [18 19 20 21 22 23]]\n",
      "[[ 0  6 12 18]\n",
      " [ 1  7 13 19]\n",
      " [ 2  8 14 20]\n",
      " [ 3  9 15 21]\n",
      " [ 4 10 16 22]\n",
      " [ 5 11 17 23]]\n",
      "[[  55  145  235  325]\n",
      " [ 145  451  757 1063]\n",
      " [ 235  757 1279 1801]\n",
      " [ 325 1063 1801 2539]]\n"
     ]
    }
   ],
   "source": [
    "# 5.3矩阵的内积的时候。就必须将矩阵进行转置后再乘以之前的矩阵：\n",
    "a1 = np.arange(0, 24).reshape((4, 6))\n",
    "a2 = a1.T\n",
    "print(a1)\n",
    "print(a2)\n",
    "print(a1.dot(a2))\n"
   ]
  },
  {
   "cell_type": "code",
   "execution_count": null,
   "metadata": {},
   "outputs": [],
   "source": []
  }
 ],
 "metadata": {
  "kernelspec": {
   "display_name": "Python 3",
   "language": "python",
   "name": "python3"
  },
  "language_info": {
   "codemirror_mode": {
    "name": "ipython",
    "version": 3
   },
   "file_extension": ".py",
   "mimetype": "text/x-python",
   "name": "python",
   "nbconvert_exporter": "python",
   "pygments_lexer": "ipython3",
   "version": "3.7.0"
  }
 },
 "nbformat": 4,
 "nbformat_minor": 2
}
