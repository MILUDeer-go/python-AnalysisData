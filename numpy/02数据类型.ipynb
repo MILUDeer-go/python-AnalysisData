{
 "cells": [
  {
   "cell_type": "markdown",
   "metadata": {},
   "source": [
    "Numpy的基本数据类型\n",
    "bool_          布尔型，True或者False\n",
    "int8           有符号字节类型，范围-128~127\n",
    "int16          有符号16位类型，范围-2^16~2^16-1\n",
    "int32          有符号32位类型，范围-2^32~2^32-1\n",
    "int64          有符号64位类型，范围-2^64~2^64-1\n",
    "\n",
    "uint8          无符号字节类型，范围0-255\n",
    "uint16         无符号16位，范围0~65535\n",
    "uint32         无符号32位，范围0~2^32-1\n",
    "uint64         无符号64位，范围0~2^64-1\n",
    "\n",
    "float_         64位浮点数\n",
    "float16        16位浮点数\n",
    "float32        32位浮点数\n",
    "float64        64位（双精度）浮点数\n",
    "\n",
    "complex_       128位复数\n",
    "complex64      64位复数\n",
    "complex128     128位复数"
   ]
  },
  {
   "cell_type": "code",
   "execution_count": 2,
   "metadata": {},
   "outputs": [
    {
     "name": "stdout",
     "output_type": "stream",
     "text": [
      "x: 5.0\n",
      "x的data属性： <memory at 0x00000212BF463040>\n",
      "x的size属性： 1\n",
      "x的维度： 0\n",
      "转换为bool型的x： True\n",
      "True值转换为float16的类型： 1.0\n"
     ]
    }
   ],
   "source": [
    "import numpy as np\n",
    "x = np.float32(5)\n",
    "print(\"x:\", x)\n",
    "print('x的data属性：',x.data)\n",
    "print('x的size属性：',x.size)\n",
    "print('x的维度：',x.ndim)\n",
    "\n",
    "y = np.bool_(x)\n",
    "print('转换为bool型的x：', y)\n",
    "\n",
    "z = np.float16(y)\n",
    "print('True值转换为float16的类型：',z)"
   ]
  },
  {
   "cell_type": "code",
   "execution_count": 3,
   "metadata": {},
   "outputs": [
    {
     "name": "stdout",
     "output_type": "stream",
     "text": [
      "5.0\n",
      "x的data: <memory at 0x00000212C144A5E0>\n",
      "x的size: 1\n",
      "x的维度： 0\n",
      "True\n",
      "1.0\n"
     ]
    }
   ],
   "source": [
    "# 数据对象dtype\n",
    "# numpy.dtype(object,align,copy)\n",
    "# align:如果为True，则填充类似C的结构体；copy：指明是否复制dtype对象\n",
    "import numpy as np\n",
    "x = np.array(5, dtype='float16')\n",
    "print(x)\n",
    "print('x的data:', x.data)\n",
    "print('x的size:', x.size)\n",
    "print('x的维度：',x.ndim)\n",
    "y = np.bool_(x)\n",
    "print(y)\n",
    "z = np.array(y,dtype='float16')\n",
    "print(z)"
   ]
  },
  {
   "cell_type": "code",
   "execution_count": 4,
   "metadata": {},
   "outputs": [
    {
     "name": "stdout",
     "output_type": "stream",
     "text": [
      "int32\n"
     ]
    }
   ],
   "source": [
    "# int8, int16, int32, int64可用'i1','i2','i4','i8'代替\n",
    "import numpy as np\n",
    "x = np.dtype('i4')\n",
    "print(x) "
   ]
  },
  {
   "cell_type": "code",
   "execution_count": null,
   "metadata": {},
   "outputs": [],
   "source": []
  }
 ],
 "metadata": {
  "interpreter": {
   "hash": "466b9de80b95b86c2aa9dcd9daf50d930599b5cc50e9eafdb9ac8ed285ba6804"
  },
  "kernelspec": {
   "display_name": "Python 3.9.7 ('base')",
   "language": "python",
   "name": "python3"
  },
  "language_info": {
   "codemirror_mode": {
    "name": "ipython",
    "version": 3
   },
   "file_extension": ".py",
   "mimetype": "text/x-python",
   "name": "python",
   "nbconvert_exporter": "python",
   "pygments_lexer": "ipython3",
   "version": "3.9.7"
  }
 },
 "nbformat": 4,
 "nbformat_minor": 2
}
