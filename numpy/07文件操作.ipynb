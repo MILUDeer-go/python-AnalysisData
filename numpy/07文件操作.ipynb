{
 "cells": [
  {
   "cell_type": "code",
   "execution_count": 6,
   "metadata": {},
   "outputs": [],
   "source": [
    "\"\"\"\n",
    "# 7.1操作CSV文件：\n",
    "文件保存：有时候我们有了一个数组，\n",
    "需要保存到文件中，那么可以使用np.savetxt来实现。\n",
    "np.savetxt(frame, array, fmt='%.18e', delimiter=None)\n",
    "* frame : 文件、字符串或产生器，可以是.gz或.bz2的压缩文件\n",
    "* array : 存入文件的数组\n",
    "* fmt : 写入文件的格式，例如：%d %.2f %.18e\n",
    "* delimiter : 分割字符串，默认是任何空格\n",
    "\"\"\"\n",
    "import numpy as np\n",
    "a = np.arange(100).reshape(5,20)\n",
    "np.savetxt(\"a.csv\", a,fmt = \"%d\", delimiter = \",\" )\n"
   ]
  },
  {
   "cell_type": "markdown",
   "metadata": {},
   "source": [
    "\n",
    "有时候我们的数据是需要从文件中读取出来的，那么可以使用np.loadtxt来实现。\n",
    "相关的函数描述如下：\n",
    "np.loadtxt(frame, dtype=np.float, delimiter=None, unpack=False)\n",
    "* frame：文件、字符串或产生器，可以是.gz或.bz2的压缩文件。\n",
    "* dtype：数据类型，可选。\n",
    "* delimiter：分割字符串，默认是任何空格。\n",
    "* skiprows：跳过前面x行。\n",
    "* usecols：读取指定的列，用元组组合。\n",
    "* unpack：如果True，读取出来的数组是转置后的。\n",
    "\n",
    "np独有的存储解决方案：\n",
    "numpy中还有一种独有的存储解决方案。文件名是以.npy或者npz结尾的。\n",
    "以下是存储和加载的函数。\n",
    "存储：np.save(fname,array)或np.savez(fname,array)。\n",
    "其中，前者函数的扩展名是.npy，后者的扩展名是.npz，后者是经过压缩的。\n",
    "加载：np.load(fname)。\n"
   ]
  },
  {
   "cell_type": "code",
   "execution_count": 9,
   "metadata": {},
   "outputs": [
    {
     "name": "stdout",
     "output_type": "stream",
     "text": [
      "['20', '21', '22', '23', '24', '25', '26', '27', '28', '29', '30', '31', '32', '33', '34', '35', '36', '37', '38', '39']\n",
      "['40', '41', '42', '43', '44', '45', '46', '47', '48', '49', '50', '51', '52', '53', '54', '55', '56', '57', '58', '59']\n",
      "['60', '61', '62', '63', '64', '65', '66', '67', '68', '69', '70', '71', '72', '73', '74', '75', '76', '77', '78', '79']\n",
      "['80', '81', '82', '83', '84', '85', '86', '87', '88', '89', '90', '91', '92', '93', '94', '95', '96', '97', '98', '99']\n"
     ]
    }
   ],
   "source": [
    "# 7.2 读取文件\n",
    "import csv\n",
    "with open('a.csv','r' )as fp:\n",
    "    reader = csv.reader(fp)\n",
    "    title = next(reader)\n",
    "    for x in reader:\n",
    "        print(x)\n",
    "        "
   ]
  },
  {
   "cell_type": "code",
   "execution_count": 13,
   "metadata": {},
   "outputs": [
    {
     "name": "stdout",
     "output_type": "stream",
     "text": [
      "OrderedDict([('0', '20'), ('1', '21'), ('2', '22'), ('3', '23'), ('4', '24'), ('5', '25'), ('6', '26'), ('7', '27'), ('8', '28'), ('9', '29'), ('10', '30'), ('11', '31'), ('12', '32'), ('13', '33'), ('14', '34'), ('15', '35'), ('16', '36'), ('17', '37'), ('18', '38'), ('19', '39')])\n",
      "OrderedDict([('0', '40'), ('1', '41'), ('2', '42'), ('3', '43'), ('4', '44'), ('5', '45'), ('6', '46'), ('7', '47'), ('8', '48'), ('9', '49'), ('10', '50'), ('11', '51'), ('12', '52'), ('13', '53'), ('14', '54'), ('15', '55'), ('16', '56'), ('17', '57'), ('18', '58'), ('19', '59')])\n",
      "OrderedDict([('0', '60'), ('1', '61'), ('2', '62'), ('3', '63'), ('4', '64'), ('5', '65'), ('6', '66'), ('7', '67'), ('8', '68'), ('9', '69'), ('10', '70'), ('11', '71'), ('12', '72'), ('13', '73'), ('14', '74'), ('15', '75'), ('16', '76'), ('17', '77'), ('18', '78'), ('19', '79')])\n",
      "OrderedDict([('0', '80'), ('1', '81'), ('2', '82'), ('3', '83'), ('4', '84'), ('5', '85'), ('6', '86'), ('7', '87'), ('8', '88'), ('9', '89'), ('10', '90'), ('11', '91'), ('12', '92'), ('13', '93'), ('14', '94'), ('15', '95'), ('16', '96'), ('17', '97'), ('18', '98'), ('19', '99')])\n"
     ]
    }
   ],
   "source": [
    "\"\"\"这样操作，以后获取数据的时候，就要通过下表来获取数据。\n",
    "如果想要在获取数据的时候通过标题来获取。那么可以使用DictReader。\n",
    "\"\"\"\n",
    "import csv\n",
    "\n",
    "with open('a.csv','r') as fp:\n",
    "    reader = csv.DictReader(fp)\n",
    "    for x in reader:\n",
    "        print(x)"
   ]
  },
  {
   "cell_type": "code",
   "execution_count": 21,
   "metadata": {},
   "outputs": [],
   "source": [
    "\"\"\"写入数据到csv文件，需要创建一个writer对象，主要用到两个方法。\n",
    "一个是writerow，这个是写入一行。一个是writerows，这个是写入多行。\n",
    "\"\"\"\n",
    "import csv\n",
    "headers = ['name', 'age', 'classrom']\n",
    "values = [\n",
    "    ('zhiliao', 18, '111'),\n",
    "    ('heigou', 17, '121'),\n",
    "    ('dahuang', 19, '211')\n",
    "]\n",
    "with open ('test.csv', 'w',newline = '') as fp:\n",
    "    writer = csv.writer(fp)\n",
    "    writer.writerow(headers)\n",
    "    writer.writerows(values)\n",
    "\n"
   ]
  },
  {
   "cell_type": "code",
   "execution_count": null,
   "metadata": {},
   "outputs": [],
   "source": []
  },
  {
   "cell_type": "code",
   "execution_count": 19,
   "metadata": {},
   "outputs": [],
   "source": [
    "#也可以使用字典的方式把数据写入进去。这时候就需要使用DictWriter了\n",
    "import csv\n",
    "\n",
    "headers = ['name','age','classroom']\n",
    "values = [\n",
    "    {\"name\":'wenn',\"age\":20,\"classroom\":'222'},\n",
    "    {\"name\":'abc',\"age\":30,\"classroom\":'333'}\n",
    "]\n",
    "with open('test.csv','w',newline='') as fp:\n",
    "    writer = csv.DictWriter(fp,headers)\n",
    "    writer.writerow({'name':'zhiliao',\"age\":18,\"classroom\":'111'})\n",
    "    writer.writerows(values)"
   ]
  },
  {
   "cell_type": "code",
   "execution_count": 2,
   "metadata": {},
   "outputs": [],
   "source": [
    "import numpy as np\n",
    "c = np.random.randint(1,10, size = (2,3))\n",
    "np.save(\"C\",c)   \n",
    "#.npy文件不可以用EXcel读取，只能用np.load()读取，\n",
    "# 只能是统一文本类型才可以操作,可以存储3维数组"
   ]
  },
  {
   "cell_type": "code",
   "execution_count": 3,
   "metadata": {},
   "outputs": [
    {
     "data": {
      "text/plain": [
       "array([[1, 2, 8],\n",
       "       [7, 3, 9]])"
      ]
     },
     "execution_count": 3,
     "metadata": {},
     "output_type": "execute_result"
    }
   ],
   "source": [
    "C1 = np.load(\"C.npy\")  # 读取npy后缀文件\n",
    "C1"
   ]
  },
  {
   "cell_type": "code",
   "execution_count": null,
   "metadata": {},
   "outputs": [],
   "source": []
  },
  {
   "cell_type": "code",
   "execution_count": null,
   "metadata": {},
   "outputs": [],
   "source": []
  }
 ],
 "metadata": {
  "kernelspec": {
   "display_name": "Python 3",
   "language": "python",
   "name": "python3"
  },
  "language_info": {
   "codemirror_mode": {
    "name": "ipython",
    "version": 3
   },
   "file_extension": ".py",
   "mimetype": "text/x-python",
   "name": "python",
   "nbconvert_exporter": "python",
   "pygments_lexer": "ipython3",
   "version": "3.7.0"
  }
 },
 "nbformat": 4,
 "nbformat_minor": 2
}
