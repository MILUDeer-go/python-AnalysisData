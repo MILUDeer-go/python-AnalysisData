{
 "cells": [
  {
   "cell_type": "code",
   "execution_count": 3,
   "metadata": {},
   "outputs": [
    {
     "name": "stdout",
     "output_type": "stream",
     "text": [
      "0.417022004702574\n",
      "0.7203244934421581\n",
      "0.00011437481734488664\n",
      "0.30233257263183977\n"
     ]
    }
   ],
   "source": [
    "# np.random模块\n",
    "# 1.1 np.random.seed用于指定随机数生成时所用算法开始的整数值，如果使用相同\n",
    "# 的seed()值，则每次生成的随即数都相同，如果不设置这个值，则系统根据时间来自\n",
    "# 己选择这个值，此时每次生成的随机数因时间差异而不同。一般没有特殊要求不用设置。\n",
    "import numpy as np\n",
    "np.random.seed(1)\n",
    "print(np.random.rand())# 打印0.417022004702574\n",
    "print(np.random.rand())\n",
    "print(np.random.rand())\n",
    "print(np.random.rand())# 打印其他的值，因为随机数种子只对下一次随机数的产生会有影响。"
   ]
  },
  {
   "cell_type": "code",
   "execution_count": 5,
   "metadata": {},
   "outputs": [
    {
     "name": "stdout",
     "output_type": "stream",
     "text": [
      "[[[0.8781425  0.09834683 0.42110763 0.95788953]\n",
      "  [0.53316528 0.69187711 0.31551563 0.68650093]\n",
      "  [0.83462567 0.01828828 0.75014431 0.98886109]]\n",
      "\n",
      " [[0.74816565 0.28044399 0.78927933 0.10322601]\n",
      "  [0.44789353 0.9085955  0.29361415 0.28777534]\n",
      "  [0.13002857 0.01936696 0.67883553 0.21162812]]]\n",
      "0.2655466593722262\n"
     ]
    }
   ],
   "source": [
    "# 1.2np.random.rand生成一个值为[0,1)之间的数组，形状由参数指定，如果没有参数，\n",
    "#那么将返回一个随机值。\n",
    "data1 = np.random.rand(2,3,4)# 生成2块3行4列的数组，值从0-1之间\n",
    "print(data1)\n",
    "data2 = np.random.rand()#生成一个0-1之间的随机数\n",
    "print(data2)"
   ]
  },
  {
   "cell_type": "code",
   "execution_count": 6,
   "metadata": {},
   "outputs": [
    {
     "name": "stdout",
     "output_type": "stream",
     "text": [
      "[[-0.67124613 -0.0126646  -1.11731035]\n",
      " [ 0.2344157   1.65980218  0.74204416]]\n"
     ]
    }
   ],
   "source": [
    "# 1.3 np.random.randn生成均值(μ)为0，标准差（σ）为1的标准正态分布的值。\n",
    "data3 = np.random.randn(2,3) #生成一个2行3列的数组，数组中的值都满足标准正太分布\n",
    "print(data3)"
   ]
  },
  {
   "cell_type": "code",
   "execution_count": 12,
   "metadata": {},
   "outputs": [
    {
     "name": "stdout",
     "output_type": "stream",
     "text": [
      "[[ 9 65 73]\n",
      " [ 9 65  4]]\n",
      "[ 6  7 65]\n",
      "[2 7 2]\n"
     ]
    }
   ],
   "source": [
    "# 1.4np.random.choice从一个列表或者数组中，随机进行采样。或者是从指定的区间\n",
    "# 中进行采样，采样个数可以通过参数指定\n",
    "data = [4,65,6,7,9,34,73,8]\n",
    "result1 = np.random.choice(data, size = (2,3))#从data中随机采样，生成2行3列的数组\n",
    "print(result1)\n",
    "result2 = np.random.choice(data, 3)#从data中随机采样3个数据形成一个一维数组\n",
    "print(result2)\n",
    "result3 = np.random.choice(10,3)#从0-10之间随机取3个值\n",
    "print(result3)"
   ]
  },
  {
   "cell_type": "code",
   "execution_count": 23,
   "metadata": {},
   "outputs": [
    {
     "name": "stdout",
     "output_type": "stream",
     "text": [
      "[0 1 2 3 4 5 6 7 8 9]\n",
      "[5 7 0 6 4 2 1 3 9 8]\n"
     ]
    }
   ],
   "source": [
    "# 1.5 np.random.shuffle把原来数组的元素的位置打乱。\n",
    "a = np.arange(10)\n",
    "print(a)\n",
    "np.random.shuffle(a)#将a的元素的位置都会进行随机更换\n",
    "print(a)"
   ]
  },
  {
   "cell_type": "code",
   "execution_count": null,
   "metadata": {},
   "outputs": [],
   "source": []
  }
 ],
 "metadata": {
  "kernelspec": {
   "display_name": "Python 3",
   "language": "python",
   "name": "python3"
  },
  "language_info": {
   "codemirror_mode": {
    "name": "ipython",
    "version": 3
   },
   "file_extension": ".py",
   "mimetype": "text/x-python",
   "name": "python",
   "nbconvert_exporter": "python",
   "pygments_lexer": "ipython3",
   "version": "3.7.0"
  }
 },
 "nbformat": 4,
 "nbformat_minor": 2
}
