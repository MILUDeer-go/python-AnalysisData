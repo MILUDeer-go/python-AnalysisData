{
 "cells": [
  {
   "cell_type": "code",
   "execution_count": 3,
   "metadata": {},
   "outputs": [
    {
     "name": "stdout",
     "output_type": "stream",
     "text": [
      "True\n"
     ]
    }
   ],
   "source": [
    "# 6拷贝：深拷贝和浅拷贝\n",
    "# 6.1如果只是简单的赋值，那么不会进行拷贝。\n",
    "import numpy as np\n",
    "a = np.arange(12)\n",
    "b = a#这种情况不会进行拷贝\n",
    "print(b is a)#这种情况不会进行拷贝"
   ]
  },
  {
   "cell_type": "code",
   "execution_count": 5,
   "metadata": {},
   "outputs": [
    {
     "name": "stdout",
     "output_type": "stream",
     "text": [
      "False\n",
      "[100   1   2   3   4   5   6   7   8   9  10  11]\n",
      "100\n"
     ]
    }
   ],
   "source": [
    "\"\"\"6.2View或者浅拷贝：\n",
    "   有些情况，会进行变量的拷贝，但是他们所指向的内存空间都是一样的，\n",
    "   那么这种情况叫做浅拷贝，或者叫做View(视图)\"\"\"\n",
    "a = np.arange(12)\n",
    "c = a.view()\n",
    "print(c is a)#返回False，说明c和a是两个不同的变量\n",
    "c[0] = 100\n",
    "print(c)\n",
    "print(a[0])#打印100，说明对c上的改变，会影响a上面的值，说明他们指向的内存空间还是一样的，这种叫做浅拷贝，或者说是view"
   ]
  },
  {
   "cell_type": "code",
   "execution_count": 7,
   "metadata": {},
   "outputs": [
    {
     "name": "stdout",
     "output_type": "stream",
     "text": [
      "[ 0  1  2  3  4  5  6  7  8  9 10 11]\n",
      "False\n",
      "[100   1   2   3   4   5   6   7   8   9  10  11]\n",
      "0\n"
     ]
    }
   ],
   "source": [
    "#6.3深拷贝：\n",
    "#将之前数据完完整整的拷贝一份放到另外一块内存空间中，这样就是两个完全不同的值了。\n",
    "a = np.arange(12)\n",
    "d = a.copy()\n",
    "print(a)\n",
    "print(d is a)#返回False，说明d和a是两个不同的变量\n",
    "d[0] = 100\n",
    "print(d)\n",
    "print(a[0])#打印0，说明d和a指向的内存空间完全不同了。"
   ]
  },
  {
   "cell_type": "code",
   "execution_count": null,
   "metadata": {},
   "outputs": [],
   "source": []
  }
 ],
 "metadata": {
  "kernelspec": {
   "display_name": "Python 3",
   "language": "python",
   "name": "python3"
  },
  "language_info": {
   "codemirror_mode": {
    "name": "ipython",
    "version": 3
   },
   "file_extension": ".py",
   "mimetype": "text/x-python",
   "name": "python",
   "nbconvert_exporter": "python",
   "pygments_lexer": "ipython3",
   "version": "3.7.0"
  }
 },
 "nbformat": 4,
 "nbformat_minor": 2
}
