{
 "cells": [
  {
   "cell_type": "markdown",
   "metadata": {},
   "source": [
    "NAN和INF值处理：\n",
    "首先我们要知道这两个英文单词代表的什么意思：\n",
    "NAN：Not A number，不是一个数字的意思，但是他是属于浮点类型的，\n",
    "所以想要进行数据操作的时候需要注意他的类型。\n",
    "INF：Infinity，代表的是无穷大的意思，也是属于浮点类型。\n",
    "np.inf表示正无穷大，-np.inf表示负无穷大，一般在出现除数为0的时候为无穷大。比如2/0。"
   ]
  },
  {
   "cell_type": "markdown",
   "metadata": {},
   "source": [
    "NAN一些特点：\n",
    "NAN和NAN不相等。比如np.NAN != np.NAN这个条件是成立的。\n",
    "NAN和任何值做运算，结果都是NAN。\n",
    "有些时候，特别是从文件中读取数据的时候，经常会出现一些缺失值。缺失值的出现会影响数据的处理。因此我们在做数据分析之前，先要对缺失值进行一些处理。处理的方式有多种，需要根据实际情况来做。一般有两种处理方式：删除缺失值，用其他值进行填充。"
   ]
  },
  {
   "cell_type": "code",
   "execution_count": 4,
   "metadata": {},
   "outputs": [
    {
     "name": "stdout",
     "output_type": "stream",
     "text": [
      "[[2. 0. 5. 2. 6.]\n",
      " [5. 1. 4. 5. 7.]\n",
      " [0. 8. 6. 3. 6.]]\n"
     ]
    },
    {
     "data": {
      "text/plain": [
       "array([2., 5., 2., 6., 5., 1., 4., 5., 7., 0., 8., 6., 3., 6.])"
      ]
     },
     "execution_count": 4,
     "metadata": {},
     "output_type": "execute_result"
    }
   ],
   "source": [
    "\"\"\"NAN一些特点：\n",
    "NAN和NAN不相等。比如np.NAN != np.NAN这个条件是成立的。\n",
    "NAN和任何值做运算，结果都是NAN。\n",
    "有些时候，特别是从文件中读取数据的时候，经常会出现一些缺失值。\n",
    "缺失值的出现会影响数据的处理。因此我们在做数据分析之前，\n",
    "先要对缺失值进行一些处理。处理的方式有多种，需要根据实际情况来做。\n",
    "一般有两种处理方式：删除缺失值，用其他值进行填充。\n",
    "\"\"\"\n",
    "# 8.1. 删除所有NAN的值，因为删除了值后数组将不知道该怎么变化，所以会被变成一维数组\n",
    "import numpy as np\n",
    "data = np.random.randint(0,10,size=(3,5)).astype(np.float)\n",
    "print(data)\n",
    "data[0,1] = np.nan\n",
    "data = data[~np.isnan(data)] # 此时的data会没有nan，并且变成一个1维数组\n",
    "data"
   ]
  },
  {
   "cell_type": "code",
   "execution_count": 6,
   "metadata": {
    "pycharm": {
     "name": "#%%\n"
    }
   },
   "outputs": [
    {
     "name": "stdout",
     "output_type": "stream",
     "text": [
      "[[2. 0. 6. 3. 2.]\n",
      " [0. 3. 4. 2. 2.]\n",
      " [7. 6. 8. 2. 2.]]\n",
      "[[ 2. nan  6.  3.  2.]\n",
      " [ 0.  3. nan  2.  2.]\n",
      " [ 7.  6.  8.  2.  2.]]\n",
      "[0 1]\n",
      "[[7. 6. 8. 2. 2.]]\n"
     ]
    }
   ],
   "source": [
    "# 8.2 删除nan所在的行\n",
    "data = np.random.randint(0,10, size = (3, 5)).astype(np.float)\n",
    "print(data)\n",
    "# 将第（0，1）和（1，2）两个值设为NAN\n",
    "data[[0,1],[1,2]] = np.NAN\n",
    "print(data)\n",
    "# 获取哪些行有NAN\n",
    "lines = np.where(np.isnan(data))[0]\n",
    "print(lines)\n",
    "# 使用delete方法删除指定的行,axis=0表示删除行，lines表示删除的行号\n",
    "data1 = np.delete(data,lines,axis=0)\n",
    "print(data1)"
   ]
  }
 ],
 "metadata": {
  "kernelspec": {
   "display_name": "Python 3",
   "language": "python",
   "name": "python3"
  },
  "language_info": {
   "codemirror_mode": {
    "name": "ipython",
    "version": 3
   },
   "file_extension": ".py",
   "mimetype": "text/x-python",
   "name": "python",
   "nbconvert_exporter": "python",
   "pygments_lexer": "ipython3",
   "version": "3.7.0"
  }
 },
 "nbformat": 4,
 "nbformat_minor": 2
}