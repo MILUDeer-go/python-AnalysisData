{
 "cells": [
  {
   "cell_type": "code",
   "execution_count": 2,
   "metadata": {},
   "outputs": [
    {
     "name": "stdout",
     "output_type": "stream",
     "text": [
      "a  0    0.633686\n",
      "   1   -0.395952\n",
      "   2   -1.701777\n",
      "b  0   -0.217414\n",
      "   1   -0.339207\n",
      "   2    0.569502\n",
      "c  0   -0.342427\n",
      "   1   -0.277908\n",
      "   2   -0.007095\n",
      "d  0    1.741821\n",
      "   1    1.799123\n",
      "   2   -0.821618\n",
      "dtype: float64\n"
     ]
    }
   ],
   "source": [
    "# 下面创建一个Series， 在输入索引Index时，输入了由两个子list组成的list，\n",
    "# 第一个子list是外层索引，第二个list是内层索引。\n",
    "import pandas as pd \n",
    "import numpy as np\n",
    "\n",
    "ser_obj = pd.Series(np.random.randn(12),index=[\n",
    "                ['a', 'a', 'a', 'b', 'b', 'b', 'c', 'c', 'c', 'd', 'd', 'd'],\n",
    "                [0, 1, 2, 0, 1, 2, 0, 1, 2, 0, 1, 2]\n",
    "            ])\n",
    "print(ser_obj)"
   ]
  },
  {
   "cell_type": "code",
   "execution_count": 5,
   "metadata": {},
   "outputs": [
    {
     "name": "stdout",
     "output_type": "stream",
     "text": [
      "<class 'pandas.core.indexes.multi.MultiIndex'>\n",
      "MultiIndex(levels=[['a', 'b', 'c', 'd'], [0, 1, 2]],\n",
      "           labels=[[0, 0, 0, 1, 1, 1, 2, 2, 2, 3, 3, 3], [0, 1, 2, 0, 1, 2, 0, 1, 2, 0, 1, 2]])\n"
     ]
    }
   ],
   "source": [
    "# MultiIndex索引对象\n",
    "# 打印这个Series的索引类型，显示是MultiIndex\n",
    "\n",
    "# 直接将索引打印出来，可以看到有lavels,和labels两个信息。\n",
    "# levels表示两个层级中分别有那些标签，labels是每个位置分别是什么标签。\n",
    "print(type(ser_obj.index))\n",
    "print(ser_obj.index)"
   ]
  },
  {
   "cell_type": "code",
   "execution_count": 11,
   "metadata": {},
   "outputs": [
    {
     "name": "stdout",
     "output_type": "stream",
     "text": [
      "0   -0.342427\n",
      "1   -0.277908\n",
      "2   -0.007095\n",
      "dtype: float64\n",
      "==============================\n",
      "a   -1.701777\n",
      "b    0.569502\n",
      "c   -0.007095\n",
      "d   -0.821618\n",
      "dtype: float64\n"
     ]
    }
   ],
   "source": [
    "# 选取子集\n",
    "# 根据索引获取数据。因为现在有两层索引，当通过外层索引获取数据的时候，可以直接利用外层索引的标签来获取。\n",
    "\n",
    "# 当要通过内层索引获取数据的时候，在list中传入两个元素，前者是表示要选取的外层索引，后者表示要选取的内层索引。\n",
    "\n",
    "print(ser_obj['c'])  # 外层选取\n",
    "print('='*30)\n",
    "print(ser_obj[:, 2]) # 内层选取"
   ]
  },
  {
   "cell_type": "code",
   "execution_count": 12,
   "metadata": {},
   "outputs": [
    {
     "name": "stdout",
     "output_type": "stream",
     "text": [
      "0  a    0.633686\n",
      "1  a   -0.395952\n",
      "2  a   -1.701777\n",
      "0  b   -0.217414\n",
      "1  b   -0.339207\n",
      "2  b    0.569502\n",
      "0  c   -0.342427\n",
      "1  c   -0.277908\n",
      "2  c   -0.007095\n",
      "0  d    1.741821\n",
      "1  d    1.799123\n",
      "2  d   -0.821618\n",
      "dtype: float64\n"
     ]
    }
   ],
   "source": [
    "# swaplevel()\n",
    "# swaplevel( )交换内层与外层索引\n",
    "print(ser_obj.swaplevel())"
   ]
  },
  {
   "cell_type": "code",
   "execution_count": 18,
   "metadata": {},
   "outputs": [
    {
     "name": "stdout",
     "output_type": "stream",
     "text": [
      "0  a    0.633686\n",
      "   b   -0.217414\n",
      "   c   -0.342427\n",
      "   d    1.741821\n",
      "1  a   -0.395952\n",
      "   b   -0.339207\n",
      "   c   -0.277908\n",
      "   d    1.799123\n",
      "2  a   -1.701777\n",
      "   b    0.569502\n",
      "   c   -0.007095\n",
      "   d   -0.821618\n",
      "dtype: float64\n"
     ]
    },
    {
     "name": "stderr",
     "output_type": "stream",
     "text": [
      "E:\\Anaconda\\DATA\\lib\\site-packages\\ipykernel_launcher.py:4: FutureWarning: sortlevel is deprecated, use sort_index(level=...)\n",
      "  after removing the cwd from sys.path.\n"
     ]
    }
   ],
   "source": [
    "# 交换并排序分层\n",
    "# sortlevel()\n",
    "# sortlevel( )先对外层索引进行排序，再对内层索引进行排序，默认是升序。\n",
    "print(ser_obj.swaplevel().sortlevel())\n"
   ]
  },
  {
   "cell_type": "code",
   "execution_count": null,
   "metadata": {},
   "outputs": [],
   "source": []
  }
 ],
 "metadata": {
  "kernelspec": {
   "display_name": "Python 3",
   "language": "python",
   "name": "python3"
  },
  "language_info": {
   "codemirror_mode": {
    "name": "ipython",
    "version": 3
   },
   "file_extension": ".py",
   "mimetype": "text/x-python",
   "name": "python",
   "nbconvert_exporter": "python",
   "pygments_lexer": "ipython3",
   "version": "3.7.0"
  }
 },
 "nbformat": 4,
 "nbformat_minor": 2
}
