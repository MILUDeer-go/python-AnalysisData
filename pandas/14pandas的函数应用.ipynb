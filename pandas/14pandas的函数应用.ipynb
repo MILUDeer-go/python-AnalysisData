{
 "cells": [
  {
   "cell_type": "code",
   "execution_count": 4,
   "metadata": {},
   "outputs": [
    {
     "name": "stdout",
     "output_type": "stream",
     "text": [
      "[[-0.74880633  0.39325959 -0.26790867 -2.01997125]\n",
      " [ 0.26053765 -1.11743577 -0.04756093 -0.44547267]\n",
      " [-0.41489928  0.06558372 -1.71178063 -0.26003424]\n",
      " [-1.56180248 -1.03382329 -1.08701685  0.71981087]\n",
      " [-3.56395869 -1.11804491  0.50581787  0.71281892]]\n",
      "\n",
      "          0         1         2         3\n",
      "0 -0.748806  0.393260 -0.267909 -2.019971\n",
      "1  0.260538 -1.117436 -0.047561 -0.445473\n",
      "2 -0.414899  0.065584 -1.711781 -0.260034\n",
      "3 -1.561802 -1.033823 -1.087017  0.719811\n",
      "4 -3.563959 -1.118045  0.505818  0.712819\n",
      "          0         1         2         3\n",
      "0  0.748806  0.393260  0.267909  2.019971\n",
      "1  0.260538  1.117436  0.047561  0.445473\n",
      "2  0.414899  0.065584  1.711781  0.260034\n",
      "3  1.561802  1.033823  1.087017  0.719811\n",
      "4  3.563959  1.118045  0.505818  0.712819\n"
     ]
    }
   ],
   "source": [
    "# 直接使用numpy创建的数据，实例如下：\n",
    "import numpy as np\n",
    "import pandas as pd\n",
    "\n",
    "data = np.random.randn(5,4)- 1  # 创建一个5行4列的数据\n",
    "print(data)\n",
    "\n",
    "print('')  # 相当于换行的作用\n",
    "\n",
    "df = pd.DataFrame(data)   # 给创建好的数据建立表格\n",
    "print(df)\n",
    "\n",
    "print(np.abs(df))   # 求数据的绝对值"
   ]
  },
  {
   "cell_type": "code",
   "execution_count": 8,
   "metadata": {},
   "outputs": [
    {
     "name": "stdout",
     "output_type": "stream",
     "text": [
      "   a  b  c  d\n",
      "0  2  2  3  2\n",
      "1  3  3  3  3\n",
      "2  3  3  2  2\n"
     ]
    }
   ],
   "source": [
    "\n",
    "df1 = pd.DataFrame(np.random.randint(2,4, size = (3,4)),\n",
    "                   columns = list('abcd'),index = range(3))\n",
    "print(df1)   #创建一个3行4列，列名为abcd，索引为0，1，2的表格"
   ]
  },
  {
   "cell_type": "code",
   "execution_count": 9,
   "metadata": {},
   "outputs": [
    {
     "data": {
      "text/plain": [
       "0    4\n",
       "1    9\n",
       "2    9\n",
       "Name: a, dtype: int64"
      ]
     },
     "execution_count": 9,
     "metadata": {},
     "output_type": "execute_result"
    }
   ],
   "source": [
    "# map 作用于series,不能用于dataframe，是元素级别的操作\n",
    "df1['a'].map(lambda x: x**2)  # 对a列的数据做平方处理"
   ]
  },
  {
   "cell_type": "code",
   "execution_count": 16,
   "metadata": {},
   "outputs": [
    {
     "name": "stdout",
     "output_type": "stream",
     "text": [
      "a    1\n",
      "b    1\n",
      "c    1\n",
      "d    1\n",
      "dtype: int64\n",
      "0    1\n",
      "1    0\n",
      "2    1\n",
      "dtype: int64\n"
     ]
    }
   ],
   "source": [
    "# apply 作用于dataframe， 可以对行/列操作：\n",
    "df2 = df1.apply(lambda x: x.max() - x.min(), axis = 0) \n",
    "print(df2) # lambda 标签代表处理的对象，axis=0 代表对列数据进行处理\n",
    "\n",
    "df3 = df1.apply(lambda x: x.max() - x.min(), axis = 1)\n",
    "print(df3) # lambda 标签代表处理的对象，axis=1 代表对列数据进行处理"
   ]
  },
  {
   "cell_type": "code",
   "execution_count": 17,
   "metadata": {},
   "outputs": [
    {
     "name": "stdout",
     "output_type": "stream",
     "text": [
      "      a     b     c     d\n",
      "0  even  even   old  even\n",
      "1   old   old   old   old\n",
      "2   old   old  even  even\n"
     ]
    }
   ],
   "source": [
    "# applymap 作用于整个dataframe元素\n",
    "df4 = df1.applymap(lambda x: \"old\" if x%2==1 else \"even\")\n",
    "print(df4)"
   ]
  },
  {
   "cell_type": "markdown",
   "metadata": {},
   "source": [
    "# 总结\n",
    "在pandas中对元素操作有三种方式：map针对一列一列的数据，用于series的对象中，apply和applymap则在dataframe中使用，前者axis=0或1来表示对列或行的操作，后者直接对dataframe中的所有元素来操作。"
   ]
  },
  {
   "cell_type": "code",
   "execution_count": 24,
   "metadata": {},
   "outputs": [
    {
     "name": "stdout",
     "output_type": "stream",
     "text": [
      "3    10\n",
      "3    11\n",
      "2    12\n",
      "2    13\n",
      "1    14\n",
      "dtype: int64\n",
      "3    10\n",
      "3    11\n",
      "2    12\n",
      "2    13\n",
      "1    14\n",
      "dtype: int64\n",
      "==============================\n",
      "1    14\n",
      "2    12\n",
      "2    13\n",
      "3    10\n",
      "3    11\n",
      "dtype: int64\n"
     ]
    }
   ],
   "source": [
    "# 1. 索引排序\n",
    "# sort_index()\n",
    "\n",
    "# 排序默认使用升序排序，ascending=False 为降序排序\n",
    "\n",
    "# 对于series对象,索引为0-4的随机索引\n",
    "s4 = pd.Series(range(10,15),index = np.random.randint(5, size = 5))\n",
    "print(s4)\n",
    "\n",
    "# 默认索引排序\n",
    "s5 = s4.sort_index(ascending=False)  # 按照索引大小排序（降序）\n",
    "print(s5)\n",
    "print(\"=\"*30)\n",
    "s6 = s4.sort_index()  # 按照索引大小排序（升序）\n",
    "print(s6)"
   ]
  },
  {
   "cell_type": "code",
   "execution_count": 31,
   "metadata": {},
   "outputs": [
    {
     "name": "stdout",
     "output_type": "stream",
     "text": [
      "   1  3  2  1\n",
      "3  1  1  2  3\n",
      "1  1  3  1  1\n",
      "3  3  3  1  2\n",
      "2  1  1  2  1\n",
      "2  2  2  3  3\n",
      "\n",
      "   3  2  1  1\n",
      "3  1  2  1  3\n",
      "1  3  1  1  1\n",
      "3  3  1  3  2\n",
      "2  1  2  1  1\n",
      "2  2  3  2  3\n",
      "\n",
      "   1  3  2  1\n",
      "3  1  1  2  3\n",
      "3  3  3  1  2\n",
      "2  1  1  2  1\n",
      "2  2  2  3  3\n",
      "1  1  3  1  1\n"
     ]
    }
   ],
   "source": [
    "# 对DataFrame进行索引操作时注意轴方向\n",
    "# \n",
    "df7 = pd.DataFrame(np.random.randint(1,4, size =(5,4)), \n",
    "                  index = np.random.randint(4, size =5),  # 索引是随机数\n",
    "                  columns = np.random.randint(4,size =4)) # 列标也是随机数\n",
    "print(df7)\n",
    "print('')\n",
    "\n",
    "df7_isort = df7.sort_index(axis = 1, ascending = False)  # axis=1，对列进行降序操作\n",
    "print(df7_isort)\n",
    "\n",
    "print('')\n",
    "df8_isort = df7.sort_index(axis = 0, ascending = False)  # axis=0，对行进行降序操作\n",
    "print(df8_isort)"
   ]
  },
  {
   "cell_type": "code",
   "execution_count": 34,
   "metadata": {},
   "outputs": [
    {
     "name": "stdout",
     "output_type": "stream",
     "text": [
      "   1  3  2  1\n",
      "1  1  3  1  1\n",
      "3  3  3  1  2\n",
      "2  2  2  3  3\n",
      "3  1  1  2  3\n",
      "2  1  1  2  1\n"
     ]
    }
   ],
   "source": [
    "# 2. 按值排序\n",
    "# sort_values(by='column name')\n",
    "# 根据某个唯一的列名进行排序，如果有其他相同列名则报错。\n",
    "\n",
    "# 按值排序\n",
    "df7_vsort = df7.sort_values(by=3, ascending=False) # 按照列索引为3的值来降序\n",
    "print(df7_vsort)"
   ]
  },
  {
   "cell_type": "code",
   "execution_count": 38,
   "metadata": {},
   "outputs": [
    {
     "name": "stdout",
     "output_type": "stream",
     "text": [
      "          0         1         2\n",
      "0 -0.302465 -1.323976 -1.923461\n",
      "1  1.000000  2.000000       NaN\n",
      "2       NaN  4.000000       NaN\n",
      "3  1.000000  2.000000  3.000000\n"
     ]
    },
    {
     "data": {
      "text/plain": [
       "array([ 0.64600512, -1.1927606 , -0.88649436,  1.73687643,  2.44530254,\n",
       "       -0.43875143, -0.96518848,  1.80403373, -0.97329962,  0.07441172])"
      ]
     },
     "execution_count": 38,
     "metadata": {},
     "output_type": "execute_result"
    }
   ],
   "source": [
    "# 处理缺失数据(randn按照正态分布来产生4行3列随机数)\n",
    "df_data = pd.DataFrame([np.random.randn(3),[1. ,2., np.nan],\n",
    "                       [np.nan,4.,np.nan],[1., 2., 3.]])\n",
    "print(df_data.head())\n",
    "\n",
    "data1 = np.random.randn(10)\n",
    "data1"
   ]
  },
  {
   "cell_type": "code",
   "execution_count": 40,
   "metadata": {},
   "outputs": [
    {
     "name": "stdout",
     "output_type": "stream",
     "text": [
      "       0      1      2\n",
      "0  False  False  False\n",
      "1  False  False   True\n",
      "2   True  False   True\n",
      "3  False  False  False\n"
     ]
    }
   ],
   "source": [
    "# 1. 判断是否存在缺失值：isnull()\n",
    "# 判断df_data数据是否为空，空值就返回Ture，不为空就返回False\n",
    "print(df_data.isnull())  "
   ]
  },
  {
   "cell_type": "code",
   "execution_count": 43,
   "metadata": {},
   "outputs": [
    {
     "name": "stdout",
     "output_type": "stream",
     "text": [
      "          0         1         2\n",
      "0 -0.302465 -1.323976 -1.923461\n",
      "3  1.000000  2.000000  3.000000\n",
      "==============================\n",
      "          1\n",
      "0 -1.323976\n",
      "1  2.000000\n",
      "2  4.000000\n",
      "3  2.000000\n"
     ]
    }
   ],
   "source": [
    "# 2. 丢弃缺失数据：dropna()函数\n",
    "# 根据axis轴方向，丢弃包含NaN的行或列。 \n",
    "print(df_data.dropna())   # 默认是行\n",
    "print('='*30)\n",
    "\n",
    "print(df_data.dropna(axis = 1))   # axis = 1将含有nan的列数据丢弃 "
   ]
  },
  {
   "cell_type": "code",
   "execution_count": 45,
   "metadata": {},
   "outputs": [
    {
     "name": "stdout",
     "output_type": "stream",
     "text": [
      "            0         1           2\n",
      "0   -0.302465 -1.323976   -1.923461\n",
      "1    1.000000  2.000000 -100.000000\n",
      "2 -100.000000  4.000000 -100.000000\n",
      "3    1.000000  2.000000    3.000000\n"
     ]
    }
   ],
   "source": [
    "# 3. 填充缺失数据：fillna()，将nan 处的值都用fillna（）中的数据替换\n",
    "\n",
    "print(df_data.fillna(-100.))     # 将nan的数据用-100替换\n"
   ]
  },
  {
   "cell_type": "markdown",
   "metadata": {},
   "source": [
    "# 总结\n",
    "排序对series对象就使用 sort_index来根据索引排序，默认升序，ascending=False用来降序\n",
    "对dataframe对象就要使用axis来决定是对行还是对列就行排序，axis=1对列排序；axis=0，对行排序\n",
    "判断空值用isnull()函数即可，空值为Ture，值不为空则False\n",
    "填充空值的位置直接用fillna()函数，括号里面的值就是用来替代空值\n",
    "丢弃空值所在的行或者列用dropna()，axis = 0丢弃行，axis = 1丢弃列\n",
    "还可以使用sort_values来根据值排序，只能选择列号唯一的列，不然会报错。by = 'columns name'"
   ]
  }
 ],
 "metadata": {
  "kernelspec": {
   "display_name": "Python 3",
   "language": "python",
   "name": "python3"
  },
  "language_info": {
   "codemirror_mode": {
    "name": "ipython",
    "version": 3
   },
   "file_extension": ".py",
   "mimetype": "text/x-python",
   "name": "python",
   "nbconvert_exporter": "python",
   "pygments_lexer": "ipython3",
   "version": "3.7.0"
  }
 },
 "nbformat": 4,
 "nbformat_minor": 2
}
