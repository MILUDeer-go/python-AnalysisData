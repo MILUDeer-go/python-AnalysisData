{
 "cells": [
  {
   "cell_type": "markdown",
   "metadata": {},
   "source": [
    "JSON（JavaScript Object Notation，JavaScript 对象表示法），是存储和交换文本信息的语法，类似 XML。\n",
    "\n",
    "JSON 比 XML 更小、更快，更易解析\n",
    "\n",
    "Pandas 可以很方便的处理 JSON 数据"
   ]
  },
  {
   "cell_type": "code",
   "execution_count": 9,
   "metadata": {},
   "outputs": [
    {
     "name": "stdout",
     "output_type": "stream",
     "text": [
      "     id  likes    name             url\n",
      "0  A001     61    菜鸟教程  www.runoob.com\n",
      "1  A002    124  Google  www.google.com\n",
      "2  A003     45      淘宝  www.taobao.com\n"
     ]
    }
   ],
   "source": [
    "import pandas as pd \n",
    "\n",
    "df = pd.read_json('sites.json', encoding='utf-8')\n",
    "print(df.to_string())"
   ]
  },
  {
   "cell_type": "code",
   "execution_count": 10,
   "metadata": {},
   "outputs": [
    {
     "name": "stdout",
     "output_type": "stream",
     "text": [
      "     id  likes    name             url\n",
      "0  A001     61    菜鸟教程  www.runoob.com\n",
      "1  A002    124  Google  www.google.com\n",
      "2  A003     45      淘宝  www.taobao.com\n"
     ]
    }
   ],
   "source": [
    "df1 = pd.DataFrame(df)\n",
    "print(df1)"
   ]
  },
  {
   "cell_type": "code",
   "execution_count": 2,
   "metadata": {},
   "outputs": [
    {
     "name": "stdout",
     "output_type": "stream",
     "text": [
      "      col1 col2\n",
      "row1     1    x\n",
      "row2     2    y\n",
      "row3     3    z\n"
     ]
    }
   ],
   "source": [
    "# JSON 对象与 Python 字典具有相同的格式，所以我们可以直接将 Python 字典转化为 DataFrame 数据\n",
    "import pandas as pd\n",
    "\n",
    "\n",
    "# 字典格式的 JSON                                                                                              \n",
    "s = {\n",
    "    \"col1\":{\"row1\":1,\"row2\":2,\"row3\":3},\n",
    "    \"col2\":{\"row1\":\"x\",\"row2\":\"y\",\"row3\":\"z\"}\n",
    "}\n",
    "\n",
    "# 读取 JSON 转为 DataFrame                                                                                          \n",
    "df = pd.DataFrame(s)\n",
    "print(df)"
   ]
  },
  {
   "cell_type": "code",
   "execution_count": 3,
   "metadata": {},
   "outputs": [
    {
     "name": "stdout",
     "output_type": "stream",
     "text": [
      "     id  likes    name             url\n",
      "0  A001     61    菜鸟教程  www.runoob.com\n",
      "1  A002    124  Google  www.google.com\n",
      "2  A003     45      淘宝  www.taobao.com\n"
     ]
    }
   ],
   "source": [
    "# 从 URL 中读取 JSON 数据\n",
    "import pandas as pd\n",
    "\n",
    "URL = 'https://static.runoob.com/download/sites.json'\n",
    "df = pd.read_json(URL)\n",
    "print(df)"
   ]
  },
  {
   "cell_type": "code",
   "execution_count": 6,
   "metadata": {},
   "outputs": [
    {
     "name": "stdout",
     "output_type": "stream",
     "text": [
      "          school_name   class  \\\n",
      "0  ABC primary school  Year 1   \n",
      "1  ABC primary school  Year 1   \n",
      "2  ABC primary school  Year 1   \n",
      "\n",
      "                                            students  \n",
      "0  {'id': 'A001', 'name': 'Tom', 'math': 60, 'phy...  \n",
      "1  {'id': 'A002', 'name': 'James', 'math': 89, 'p...  \n",
      "2  {'id': 'A003', 'name': 'Jenny', 'math': 79, 'p...  \n"
     ]
    }
   ],
   "source": [
    "# 内嵌的 JSON 数据\n",
    "# 假设有一组内嵌的 JSON 数据文件 nested_list.json，使用以下代码格式化完整内容\n",
    "import pandas as pd \n",
    "df = pd.read_json('nested_list.json')\n",
    "print(df)"
   ]
  },
  {
   "cell_type": "code",
   "execution_count": 15,
   "metadata": {},
   "outputs": [
    {
     "name": "stdout",
     "output_type": "stream",
     "text": [
      "   chemistry    id  math   name  physics         school_name   class\n",
      "0         61  A001    60    Tom       66  ABC primary school  Year 1\n",
      "1         51  A002    89  James       76  ABC primary school  Year 1\n",
      "2         78  A003    79  Jenny       90  ABC primary school  Year 1\n"
     ]
    }
   ],
   "source": [
    "# 这时我们就需要使用到 json_normalize() 方法将内嵌的数据完整的解析出来\n",
    "import pandas as pd\n",
    "import json\n",
    "from pandas.io.json import json_normalize\n",
    "\n",
    "# 使用 Python JSON 模块载入数据\n",
    "with open('nested_list.json','r') as f:\n",
    "    data = json.loads(f.read())\n",
    "\n",
    "# 展平数据\n",
    "df_nested_list = json_normalize(data, record_path =['students'],meta=['school_name','class'])\n",
    "print(df_nested_list)\n",
    "\n",
    "\n",
    "# data = json.loads(f.read()) 使用 Python JSON 模块载入数据。\n",
    "# json_normalize() 使用了参数 record_path 并设置为 ['students'] 用于展开内嵌的 JSON 数据 students。\n",
    "# 显示结果还没有包含 school_name 和 class 元素，如果需要展示出来可以使用 meta 参数来显示这些元数据\n",
    "\n"
   ]
  },
  {
   "cell_type": "code",
   "execution_count": 21,
   "metadata": {},
   "outputs": [
    {
     "name": "stdout",
     "output_type": "stream",
     "text": [
      "   chemistry    id  math   name  physics   class info.president  \\\n",
      "0         61  A001    60    Tom       66  Year 1    John Kasich   \n",
      "1         51  A002    89  James       76  Year 1    John Kasich   \n",
      "2         78  A003    79  Jenny       90  Year 1    John Kasich   \n",
      "\n",
      "  info.contacts.tel  \n",
      "0         123456789  \n",
      "1         123456789  \n",
      "2         123456789  \n"
     ]
    }
   ],
   "source": [
    "# 接下来，让我们尝试读取更复杂的 JSON 数据，该数据嵌套了列表和字典，数据文件 nested_mix.json ;\n",
    "# nested_mix.json 文件转换为 DataFrame\n",
    "import pandas as pd\n",
    "from pandas.io.json import json_normalize\n",
    "import json\n",
    "# 使用 Python JSON 模块载入数据\n",
    "\n",
    "with open('nested_mix.json','r') as f:\n",
    "    data = json.loads(f.read())\n",
    "   \n",
    "df = json_normalize(\n",
    "    data,\n",
    "    record_path =['students'],\n",
    "    meta=[\n",
    "        'class',\n",
    "        ['info', 'president'],\n",
    "        ['info', 'contacts', 'tel']\n",
    "    ]\n",
    ")\n",
    "\n",
    "print(df)"
   ]
  },
  {
   "cell_type": "code",
   "execution_count": null,
   "metadata": {},
   "outputs": [],
   "source": []
  }
 ],
 "metadata": {
  "kernelspec": {
   "display_name": "Python 3",
   "language": "python",
   "name": "python3"
  },
  "language_info": {
   "codemirror_mode": {
    "name": "ipython",
    "version": 3
   },
   "file_extension": ".py",
   "mimetype": "text/x-python",
   "name": "python",
   "nbconvert_exporter": "python",
   "pygments_lexer": "ipython3",
   "version": "3.7.0"
  }
 },
 "nbformat": 4,
 "nbformat_minor": 2
}
