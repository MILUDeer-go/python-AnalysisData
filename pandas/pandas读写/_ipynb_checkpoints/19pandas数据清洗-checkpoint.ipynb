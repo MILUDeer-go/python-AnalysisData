{
 "cells": [
  {
   "cell_type": "markdown",
   "metadata": {},
   "source": [
    "Pandas 数据清洗\n",
    "数据清洗是对一些没有用的数据进行处理的过程。\n",
    "\n",
    "很多数据集存在数据缺失、数据格式错误、错误数据或重复数据的情况，如果要对使数据分析更加准确，就需要对这些没有用的数据进行处理。"
   ]
  },
  {
   "cell_type": "markdown",
   "metadata": {},
   "source": [
    "Pandas 清洗空值\n",
    "如果我们要删除包含空字段的行，可以使用 dropna() 方法，语法格式如下：\n",
    "\n",
    "DataFrame.dropna(axis=0, how='any', thresh=None, subset=None, inplace=False)\n",
    "参数说明：\n",
    "\n",
    "axis：默认为 0，表示逢空值剔除整行，如果设置参数 axis＝1 表示逢空值去掉整列。\n",
    "how：默认为 'any' 如果一行（或一列）里任何一个数据有出现 NA 就去掉整行，如果设置 how='all' 一行（或列）都是 NA 才去掉这整行。\n",
    "thresh：设置需要多少非空值的数据才可以保留下来的。\n",
    "subset：设置想要检查的列。如果是多个列，可以使用列名的 list 作为参数。\n",
    "inplace：如果设置 True，将计算得到的值直接覆盖之前的值并返回 None，修改的是源数据。"
   ]
  },
  {
   "cell_type": "code",
   "execution_count": 8,
   "metadata": {},
   "outputs": [
    {
     "name": "stdout",
     "output_type": "stream",
     "text": [
      "           PID  ST_NUM     ST_NAME OWN_OCCUPIED NUM_BEDROOMS NUM_BATH SQ_FT\n",
      "0  100001000.0   104.0      PUTNAM            Y            3        1  1000\n",
      "1  100002000.0   197.0   LEXINGTON            N            3      1.5    --\n",
      "2  100003000.0     NaN   LEXINGTON            N          NaN        1   850\n",
      "3  100004000.0   201.0    BERKELEY           12            1      NaN   700\n",
      "4          NaN   203.0    BERKELEY            Y            3        2  1600\n",
      "5  100006000.0   207.0    BERKELEY            Y          NaN        1   800\n",
      "6  100007000.0     NaN  WASHINGTON          NaN            2   HURLEY   950\n",
      "7  100008000.0   213.0     TREMONT            Y            1        1   NaN\n",
      "8  100009000.0   215.0     TREMONT            Y           na        2  1800\n"
     ]
    }
   ],
   "source": [
    "import pandas as pd\n",
    "\n",
    "df = pd.read_csv('property-data.csv')\n",
    "\n",
    "print(df)"
   ]
  },
  {
   "cell_type": "code",
   "execution_count": 1,
   "metadata": {},
   "outputs": [
    {
     "name": "stdout",
     "output_type": "stream",
     "text": [
      "0      3\n",
      "1      3\n",
      "2    NaN\n",
      "3      1\n",
      "4      3\n",
      "5    NaN\n",
      "6      2\n",
      "7      1\n",
      "8     na\n",
      "Name: NUM_BEDROOMS, dtype: object\n",
      "<bound method Series.isnull of 0      3\n",
      "1      3\n",
      "2    NaN\n",
      "3      1\n",
      "4      3\n",
      "5    NaN\n",
      "6      2\n",
      "7      1\n",
      "8     na\n",
      "Name: NUM_BEDROOMS, dtype: object>\n"
     ]
    }
   ],
   "source": [
    "# 通过 isnull() 判断各个单元格是否为空\n",
    "import pandas as pd \n",
    "df = pd.read_csv('property-data.csv')\n",
    "print(df['NUM_BEDROOMS'])\n",
    "print(df['NUM_BEDROOMS'].isnull)"
   ]
  },
  {
   "cell_type": "code",
   "execution_count": 2,
   "metadata": {},
   "outputs": [
    {
     "name": "stdout",
     "output_type": "stream",
     "text": [
      "0    3.0\n",
      "1    3.0\n",
      "2    NaN\n",
      "3    1.0\n",
      "4    3.0\n",
      "5    NaN\n",
      "6    2.0\n",
      "7    1.0\n",
      "8    NaN\n",
      "Name: NUM_BEDROOMS, dtype: float64\n",
      "0    False\n",
      "1    False\n",
      "2     True\n",
      "3    False\n",
      "4    False\n",
      "5     True\n",
      "6    False\n",
      "7    False\n",
      "8     True\n",
      "Name: NUM_BEDROOMS, dtype: bool\n"
     ]
    }
   ],
   "source": [
    "# Pandas 把 n/a 和 NA 当作空数据，na 不是空数据，不符合我们要求，我们可以指定空数据类型\n",
    "import pandas as pd\n",
    "\n",
    "missing_values = [\"n/a\", \"na\", \"--\"]\n",
    "df = pd.read_csv('property-data.csv', na_values = missing_values)\n",
    "\n",
    "print (df['NUM_BEDROOMS'])\n",
    "print (df['NUM_BEDROOMS'].isnull())"
   ]
  },
  {
   "cell_type": "code",
   "execution_count": 4,
   "metadata": {},
   "outputs": [
    {
     "name": "stdout",
     "output_type": "stream",
     "text": [
      "           PID  ST_NUM    ST_NAME OWN_OCCUPIED NUM_BEDROOMS NUM_BATH SQ_FT\n",
      "0  100001000.0   104.0     PUTNAM            Y            3        1  1000\n",
      "1  100002000.0   197.0  LEXINGTON            N            3      1.5    --\n",
      "8  100009000.0   215.0    TREMONT            Y           na        2  1800\n"
     ]
    }
   ],
   "source": [
    "# 删除包含空数据的行\n",
    "\n",
    "import pandas as pd\n",
    "\n",
    "df = pd.read_csv('property-data.csv')\n",
    "\n",
    "new_df = df.dropna()\n",
    "\n",
    "print(new_df.to_string())"
   ]
  },
  {
   "cell_type": "code",
   "execution_count": 5,
   "metadata": {},
   "outputs": [
    {
     "name": "stdout",
     "output_type": "stream",
     "text": [
      "           PID  ST_NUM    ST_NAME OWN_OCCUPIED NUM_BEDROOMS NUM_BATH SQ_FT\n",
      "0  100001000.0   104.0     PUTNAM            Y            3        1  1000\n",
      "1  100002000.0   197.0  LEXINGTON            N            3      1.5    --\n",
      "8  100009000.0   215.0    TREMONT            Y           na        2  1800\n"
     ]
    }
   ],
   "source": [
    "# 注意：默认情况下，dropna() 方法返回一个新的 DataFrame，不会修改源数据。\n",
    "# 如果你要修改源数据 DataFrame, 可以使用 inplace = True 参数\n",
    "\n",
    "import pandas as pd\n",
    "\n",
    "df = pd.read_csv('property-data.csv')\n",
    "df.dropna(inplace = True)\n",
    "\n",
    "print(df.to_string())"
   ]
  },
  {
   "cell_type": "code",
   "execution_count": 10,
   "metadata": {},
   "outputs": [
    {
     "name": "stdout",
     "output_type": "stream",
     "text": [
      "           PID  ST_NUM    ST_NAME OWN_OCCUPIED NUM_BEDROOMS NUM_BATH SQ_FT\n",
      "0  100001000.0   104.0     PUTNAM            Y            3        1  1000\n",
      "1  100002000.0   197.0  LEXINGTON            N            3      1.5    --\n",
      "3  100004000.0   201.0   BERKELEY           12            1      NaN   700\n",
      "4          NaN   203.0   BERKELEY            Y            3        2  1600\n",
      "5  100006000.0   207.0   BERKELEY            Y          NaN        1   800\n",
      "7  100008000.0   213.0    TREMONT            Y            1        1   NaN\n",
      "8  100009000.0   215.0    TREMONT            Y           na        2  1800\n"
     ]
    }
   ],
   "source": [
    "# 我们也可以移除指定列有空值的行\n",
    "# 移除 ST_NUM 列中字段值为空的行\n",
    "import pandas as pd \n",
    "\n",
    "df = pd.read_csv('property-data.csv')\n",
    "df.dropna(subset=['ST_NUM'], inplace=True)\n",
    "print(df)"
   ]
  },
  {
   "cell_type": "code",
   "execution_count": 13,
   "metadata": {},
   "outputs": [
    {
     "name": "stdout",
     "output_type": "stream",
     "text": [
      "           PID  ST_NUM     ST_NAME OWN_OCCUPIED NUM_BEDROOMS NUM_BATH SQ_FT\n",
      "0  100001000.0   104.0      PUTNAM            Y            3        1  1000\n",
      "1  100002000.0   197.0   LEXINGTON            N            3      1.5    --\n",
      "2  100003000.0  1234.0   LEXINGTON            N         1234        1   850\n",
      "3  100004000.0   201.0    BERKELEY           12            1     1234   700\n",
      "4       1234.0   203.0    BERKELEY            Y            3        2  1600\n",
      "5  100006000.0   207.0    BERKELEY            Y         1234        1   800\n",
      "6  100007000.0  1234.0  WASHINGTON         1234            2   HURLEY   950\n",
      "7  100008000.0   213.0     TREMONT            Y            1        1  1234\n",
      "8  100009000.0   215.0     TREMONT            Y           na        2  1800\n"
     ]
    }
   ],
   "source": [
    "# 也可以 fillna() 方法来替换一些空字段\n",
    "import pandas as pd \n",
    "df = pd.read_csv('property-data.csv')\n",
    "\n",
    "# 使用1234替换空字段\n",
    "df.fillna(1234, inplace=True)\n",
    "print(df)"
   ]
  },
  {
   "cell_type": "code",
   "execution_count": 17,
   "metadata": {},
   "outputs": [
    {
     "name": "stdout",
     "output_type": "stream",
     "text": [
      "           PID  ST_NUM     ST_NAME OWN_OCCUPIED NUM_BEDROOMS NUM_BATH SQ_FT\n",
      "0  100001000.0   104.0      PUTNAM            Y            3        1  1000\n",
      "1  100002000.0   197.0   LEXINGTON            N            3      1.5    --\n",
      "2  100003000.0     NaN   LEXINGTON            N          NaN        1   850\n",
      "3  100004000.0   201.0    BERKELEY           12            1      NaN   700\n",
      "4      12345.0   203.0    BERKELEY            Y            3        2  1600\n",
      "5  100006000.0   207.0    BERKELEY            Y          NaN        1   800\n",
      "6  100007000.0     NaN  WASHINGTON          NaN            2   HURLEY   950\n",
      "7  100008000.0   213.0     TREMONT            Y            1        1   NaN\n",
      "8  100009000.0   215.0     TREMONT            Y           na        2  1800\n"
     ]
    }
   ],
   "source": [
    "# 也可以指定某一个列来替换数据\n",
    "# 使用 12345 替换 PID 为空数据\n",
    "import pandas as pd\n",
    "\n",
    "df = pd.read_csv('property-data.csv')\n",
    "\n",
    "df['PID'].fillna(12345, inplace = True)\n",
    "\n",
    "print(df.to_string())\n"
   ]
  },
  {
   "cell_type": "markdown",
   "metadata": {},
   "source": [
    "替换空单元格的常用方法是计算列的均值、中位数值或众数。\n",
    "\n",
    "Pandas使用 mean()、median() 和 mode() 方法计算列的均值（所有值加起来的平均值）、\n",
    "中位数值（排序后排在中间的数）和众数（出现频率最高的数）。\n"
   ]
  },
  {
   "cell_type": "code",
   "execution_count": 20,
   "metadata": {},
   "outputs": [
    {
     "name": "stdout",
     "output_type": "stream",
     "text": [
      "191.42857142857142\n",
      "           PID      ST_NUM     ST_NAME OWN_OCCUPIED NUM_BEDROOMS NUM_BATH  \\\n",
      "0  100001000.0  104.000000      PUTNAM            Y            3        1   \n",
      "1  100002000.0  197.000000   LEXINGTON            N            3      1.5   \n",
      "2  100003000.0  191.428571   LEXINGTON            N          NaN        1   \n",
      "3  100004000.0  201.000000    BERKELEY           12            1      NaN   \n",
      "4          NaN  203.000000    BERKELEY            Y            3        2   \n",
      "5  100006000.0  207.000000    BERKELEY            Y          NaN        1   \n",
      "6  100007000.0  191.428571  WASHINGTON          NaN            2   HURLEY   \n",
      "7  100008000.0  213.000000     TREMONT            Y            1        1   \n",
      "8  100009000.0  215.000000     TREMONT            Y           na        2   \n",
      "\n",
      "  SQ_FT  \n",
      "0  1000  \n",
      "1    --  \n",
      "2   850  \n",
      "3   700  \n",
      "4  1600  \n",
      "5   800  \n",
      "6   950  \n",
      "7   NaN  \n",
      "8  1800  \n"
     ]
    }
   ],
   "source": [
    "# 使用 mean() 方法计算列的均值并替换空单元格\n",
    "import pandas as pd \n",
    "df = pd.read_csv('property-data.csv')\n",
    "x = df['ST_NUM'].mean()\n",
    "\n",
    "df['ST_NUM'].fillna(x, inplace=True)\n",
    "print(df)"
   ]
  },
  {
   "cell_type": "code",
   "execution_count": 22,
   "metadata": {},
   "outputs": [
    {
     "name": "stdout",
     "output_type": "stream",
     "text": [
      "           PID  ST_NUM     ST_NAME OWN_OCCUPIED NUM_BEDROOMS NUM_BATH SQ_FT\n",
      "0  100001000.0   104.0      PUTNAM            Y            3        1  1000\n",
      "1  100002000.0   197.0   LEXINGTON            N            3      1.5    --\n",
      "2  100003000.0   203.0   LEXINGTON            N          NaN        1   850\n",
      "3  100004000.0   201.0    BERKELEY           12            1      NaN   700\n",
      "4          NaN   203.0    BERKELEY            Y            3        2  1600\n",
      "5  100006000.0   207.0    BERKELEY            Y          NaN        1   800\n",
      "6  100007000.0   203.0  WASHINGTON          NaN            2   HURLEY   950\n",
      "7  100008000.0   213.0     TREMONT            Y            1        1   NaN\n",
      "8  100009000.0   215.0     TREMONT            Y           na        2  1800\n"
     ]
    }
   ],
   "source": [
    "# 使用 median() 方法计算列的中位数并替换空单元格\n",
    "import pandas as pd \n",
    "df = pd.read_csv('property-data.csv')\n",
    "\n",
    "x = df['ST_NUM'].median()\n",
    "df['ST_NUM'].fillna(x, inplace=True)\n",
    "print(df)"
   ]
  },
  {
   "cell_type": "code",
   "execution_count": 25,
   "metadata": {},
   "outputs": [
    {
     "name": "stdout",
     "output_type": "stream",
     "text": [
      "           PID  ST_NUM     ST_NAME OWN_OCCUPIED NUM_BEDROOMS NUM_BATH SQ_FT\n",
      "0  100001000.0   104.0      PUTNAM            Y            3        1  1000\n",
      "1  100002000.0   197.0   LEXINGTON            N            3      1.5    --\n",
      "2  100003000.0   201.0   LEXINGTON            N          NaN        1   850\n",
      "3  100004000.0   201.0    BERKELEY           12            1      NaN   700\n",
      "4          NaN   203.0    BERKELEY            Y            3        2  1600\n",
      "5  100006000.0   207.0    BERKELEY            Y          NaN        1   800\n",
      "6  100007000.0   215.0  WASHINGTON          NaN            2   HURLEY   950\n",
      "7  100008000.0   213.0     TREMONT            Y            1        1   NaN\n",
      "8  100009000.0   215.0     TREMONT            Y           na        2  1800\n"
     ]
    }
   ],
   "source": [
    "# 使用 mode() 方法计算列的众数并替换空单元格\n",
    "import pandas as pd \n",
    "\n",
    "df = pd.read_csv('property-data.csv')\n",
    "\n",
    "x = df['ST_NUM'].mode()\n",
    "df['ST_NUM'].fillna(x, inplace=True)\n",
    "print(df)"
   ]
  },
  {
   "cell_type": "code",
   "execution_count": 28,
   "metadata": {},
   "outputs": [
    {
     "name": "stdout",
     "output_type": "stream",
     "text": [
      "            Date  duration\n",
      "day1  2020/12/01        50\n",
      "day2  2020/12/02        40\n",
      "day3    20201226        45\n",
      "------------------------\n",
      "           Date  duration\n",
      "day1 2020-12-01        50\n",
      "day2 2020-12-02        40\n",
      "day3 2020-12-26        45\n"
     ]
    }
   ],
   "source": [
    "# Pandas 清洗格式错误数据\n",
    "# 数据格式错误的单元格会使数据分析变得困难，甚至不可能。\n",
    "\n",
    "# 我们可以通过包含空单元格的行，或者将列中的所有单元格转换为相同格式的数据。\n",
    "\n",
    "import pandas as pd\n",
    "\n",
    "# 第三个日期格式错误\n",
    "data = {\n",
    "  \"Date\": ['2020/12/01', '2020/12/02' , '20201226'],\n",
    "  \"duration\": [50, 40, 45]\n",
    "}\n",
    "\n",
    "df = pd.DataFrame(data, index = [\"day1\", \"day2\", \"day3\"])\n",
    "print(df)\n",
    "print('------------------------')\n",
    "df['Date'] = pd.to_datetime(df['Date'])\n",
    "print(df)"
   ]
  },
  {
   "cell_type": "code",
   "execution_count": 34,
   "metadata": {},
   "outputs": [
    {
     "name": "stdout",
     "output_type": "stream",
     "text": [
      "     name    age\n",
      "0  Google     50\n",
      "1  Runoob     40\n",
      "2  Taobao  12345\n",
      "     name  age\n",
      "0  Google   50\n",
      "1  Runoob   40\n",
      "2  Taobao   30\n"
     ]
    }
   ],
   "source": [
    "# Pandas 清洗错误数据\n",
    "# 数据错误也是很常见的情况，我们可以对错误的数据进行替换或移除。\n",
    "\n",
    "import pandas as pd \n",
    "person ={\n",
    "    'name': ['Google', 'Runoob', 'Taobao'],\n",
    "    'age' : [50, 40, 12345]       # 12345年龄数据错误\n",
    "}\n",
    "df = pd.DataFrame(person)\n",
    "print(df)\n",
    "\n",
    "df.loc[2, 'age'] = 30   # 修改数据\n",
    "print(df)"
   ]
  },
  {
   "cell_type": "code",
   "execution_count": 36,
   "metadata": {},
   "outputs": [
    {
     "name": "stdout",
     "output_type": "stream",
     "text": [
      "     name  age\n",
      "0  Google   50\n",
      "1  Runoob  120\n",
      "2  Taobao  120\n"
     ]
    }
   ],
   "source": [
    "# 可以设置条件语句\n",
    "# age 大于 120 的设置为 120\n",
    "import pandas as pd\n",
    "\n",
    "person = {\n",
    "  \"name\": ['Google', 'Runoob' , 'Taobao'],\n",
    "  \"age\": [50, 200, 12345]    \n",
    "}\n",
    "\n",
    "df = pd.DataFrame(person)\n",
    "\n",
    "for x in df.index:\n",
    "    if df.loc[x, 'age'] > 120:\n",
    "        df.loc[x, 'age'] = 120\n",
    "        \n",
    "print(df)"
   ]
  },
  {
   "cell_type": "code",
   "execution_count": 38,
   "metadata": {},
   "outputs": [
    {
     "name": "stdout",
     "output_type": "stream",
     "text": [
      "     name  age\n",
      "0  Google   50\n",
      "1  Runoob   40\n"
     ]
    }
   ],
   "source": [
    "# 也可以将错误数据的行删除\n",
    "# 将 age 大于 120 的删除\n",
    "import pandas as pd\n",
    "\n",
    "person = {\n",
    "  \"name\": ['Google', 'Runoob' , 'Taobao'],\n",
    "  \"age\": [50, 40, 12345]    # 12345 年龄数据是错误的\n",
    "}\n",
    "\n",
    "df = pd.DataFrame(person)\n",
    "\n",
    "for x in df.index:\n",
    "    if df.loc[x, \"age\"] > 120:\n",
    "        df.drop(x, inplace = True)\n",
    "\n",
    "print(df.to_string())"
   ]
  },
  {
   "cell_type": "code",
   "execution_count": 40,
   "metadata": {},
   "outputs": [
    {
     "name": "stdout",
     "output_type": "stream",
     "text": [
      "0    False\n",
      "1    False\n",
      "2     True\n",
      "3    False\n",
      "dtype: bool\n"
     ]
    }
   ],
   "source": [
    "# Pandas 清洗重复数据\n",
    "# 如果我们要清洗重复数据，可以使用 duplicated() 和 drop_duplicates() 方法。\n",
    "# 如果对应的数据是重复的，duplicated() 会返回 True，否则返回 False。\n",
    "\n",
    "import pandas as pd\n",
    "\n",
    "person = {\n",
    "  \"name\": ['Google', 'Runoob', 'Runoob', 'Taobao'],\n",
    "  \"age\": [50, 40, 40, 23]  \n",
    "}\n",
    "df = pd.DataFrame(person)\n",
    "\n",
    "print(df.duplicated())"
   ]
  },
  {
   "cell_type": "code",
   "execution_count": 1,
   "metadata": {},
   "outputs": [
    {
     "name": "stdout",
     "output_type": "stream",
     "text": [
      "     name  age\n",
      "0  Google   50\n",
      "1  Runoob   40\n",
      "3  Taobao   23\n"
     ]
    }
   ],
   "source": [
    "# 删除重复数据，可以直接使用drop_duplicates() 方法\n",
    "import pandas as pd\n",
    "\n",
    "persons = {\n",
    "  \"name\": ['Google', 'Runoob', 'Runoob', 'Taobao'],\n",
    "  \"age\": [50, 40, 40, 23]  \n",
    "}\n",
    "\n",
    "df = pd.DataFrame(persons)\n",
    "\n",
    "df.drop_duplicates(inplace=True)\n",
    "print(df)"
   ]
  },
  {
   "cell_type": "markdown",
   "metadata": {},
   "source": [
    "总结：\n",
    "首先判断空值使用isnull(）方法，\n",
    "删除空值数据行可以使用dropna（）\n",
    "将空值用某个值代替使用fillna（）方法，常用来代替的有mean（）平均值，mode（）众数，median（）中位数\n",
    "pandas处理数据需要数据格式一致，要根据实际情况来进行数据格式化\n",
    "错误数据我们可以删除loc(x,'')->drop()，也可以替换（直接赋值）\n",
    "重复数据需要清洗，一般就是删除重复数据drop_duplicates()方法\n"
   ]
  }
 ],
 "metadata": {
  "kernelspec": {
   "display_name": "Python 3",
   "language": "python",
   "name": "python3"
  },
  "language_info": {
   "codemirror_mode": {
    "name": "ipython",
    "version": 3
   },
   "file_extension": ".py",
   "mimetype": "text/x-python",
   "name": "python",
   "nbconvert_exporter": "python",
   "pygments_lexer": "ipython3",
   "version": "3.7.0"
  }
 },
 "nbformat": 4,
 "nbformat_minor": 2
}
