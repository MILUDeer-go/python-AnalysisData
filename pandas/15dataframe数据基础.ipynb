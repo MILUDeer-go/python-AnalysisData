{
 "cells": [
  {
   "cell_type": "code",
   "execution_count": 1,
   "metadata": {},
   "outputs": [],
   "source": [
    "# dataframe对象\n",
    "# 将Series的使用场景由一维扩展到多维\n",
    "# dataframe有两个索引对象，第一个数组与行有关，它与Series的索引数组相似。而第二个数组包含一系列列列标签，\n",
    "# 每个标签与一列数据相关联\n",
    "\n"
   ]
  },
  {
   "cell_type": "code",
   "execution_count": 5,
   "metadata": {},
   "outputs": [
    {
     "name": "stdout",
     "output_type": "stream",
     "text": [
      "  color  object  price\n",
      "0     b    ball    1.2\n",
      "1     c     pen    3.4\n",
      "2     g  pencil    1.0\n",
      "3     r   paper    0.6\n",
      "4     w     mug    5.0\n"
     ]
    }
   ],
   "source": [
    "# 定义Dataframe对象（先使用字典的方法）\n",
    "\n",
    "import pandas as pd\n",
    "data = {\"color\":['b','c',\"g\",\"r\",\"w\"],\n",
    "       'object':['ball','pen','pencil','paper','mug'],\n",
    "       'price':[1.2,3.4,1,0.6,5]}\n",
    "frame = pd.DataFrame(data)\n",
    "print(frame)"
   ]
  },
  {
   "cell_type": "code",
   "execution_count": 9,
   "metadata": {},
   "outputs": [
    {
     "name": "stdout",
     "output_type": "stream",
     "text": [
      "  color  object\n",
      "0     b    ball\n",
      "1     c     pen\n",
      "2     g  pencil\n",
      "3     r   paper\n",
      "4     w     mug\n"
     ]
    }
   ],
   "source": [
    "# 查看属性\n",
    "type(frame)\n",
    "# 可以只输入自己需要的数据\n",
    "frame1 = pd.DataFrame(data,columns=['color','object'])\n",
    "print(frame1)"
   ]
  },
  {
   "cell_type": "code",
   "execution_count": 13,
   "metadata": {},
   "outputs": [
    {
     "name": "stdout",
     "output_type": "stream",
     "text": [
      "      color  object  price\n",
      "one       b    ball    1.2\n",
      "two       c     pen    3.4\n",
      "three     g  pencil    1.0\n",
      "four      r   paper    0.6\n",
      "five      w     mug    5.0\n"
     ]
    }
   ],
   "source": [
    "# 设置索引数组标签\n",
    "frame2 = pd.DataFrame(data,index=['one','two','three','four','five'])\n",
    "print(frame2)"
   ]
  },
  {
   "cell_type": "code",
   "execution_count": 18,
   "metadata": {},
   "outputs": [
    {
     "name": "stdout",
     "output_type": "stream",
     "text": [
      "        ball  pen  pencil  paper\n",
      "red        2    7       6      4\n",
      "blue       7    8       3      2\n",
      "yellow     4    5       6      8\n",
      "white      5    9       5      6\n"
     ]
    }
   ],
   "source": [
    "# 使用random函数创建数组\n",
    "import numpy as np \n",
    "import pandas as pd\n",
    "\n",
    "data3 = np.random.randint(2,10,size=(4,4))\n",
    "frame3 = pd.DataFrame(data3,index=['red','blue','yellow','white'],\n",
    "                     columns=['ball','pen','pencil','paper'])\n",
    "print(frame3)"
   ]
  },
  {
   "cell_type": "code",
   "execution_count": 25,
   "metadata": {},
   "outputs": [
    {
     "name": "stdout",
     "output_type": "stream",
     "text": [
      "Index(['ball', 'pen', 'pencil', 'paper'], dtype='object')\n",
      "==============================\n",
      "Index(['red', 'blue', 'yellow', 'white'], dtype='object')\n"
     ]
    }
   ],
   "source": [
    "print(frame3.columns)\n",
    "print('='*30)\n",
    "print(frame3.index)"
   ]
  },
  {
   "cell_type": "code",
   "execution_count": 30,
   "metadata": {},
   "outputs": [
    {
     "name": "stdout",
     "output_type": "stream",
     "text": [
      "[['b' 'ball' 1.2]\n",
      " ['c' 'pen' 3.4]\n",
      " ['g' 'pencil' 1.0]\n",
      " ['r' 'paper' 0.6]\n",
      " ['w' 'mug' 5.0]]\n",
      "==============================\n",
      "0    1.2\n",
      "1    3.4\n",
      "2    1.0\n",
      "3    0.6\n",
      "4    5.0\n",
      "Name: price, dtype: float64\n"
     ]
    }
   ],
   "source": [
    "# 获取存储在数据结构中的元素，可以使用values属性\n",
    "print(frame.values)\n",
    "print('=='*15)\n",
    "\n",
    "# 获取一列数据,返回值是Series对象。另一种方法是用列名称作为dataFrame实例的属性。\n",
    "print(frame['price'])"
   ]
  },
  {
   "cell_type": "code",
   "execution_count": 39,
   "metadata": {},
   "outputs": [
    {
     "name": "stdout",
     "output_type": "stream",
     "text": [
      "==============================\n",
      "color          g\n",
      "object    pencil\n",
      "price          1\n",
      "Name: 2, dtype: object\n",
      "==============================\n",
      "  color  object  price\n",
      "0     b    ball    1.2\n",
      "1     c     pen    3.4\n",
      "2     g  pencil    1.0\n",
      "==============================\n",
      "  color object  price\n",
      "0     b   ball    1.2\n",
      "1     c    pen    3.4\n"
     ]
    },
    {
     "name": "stderr",
     "output_type": "stream",
     "text": [
      "E:\\Anaconda\\DATA\\lib\\site-packages\\ipykernel_launcher.py:9: DeprecationWarning: \n",
      ".ix is deprecated. Please use\n",
      ".loc for label based indexing or\n",
      ".iloc for positional indexing\n",
      "\n",
      "See the documentation here:\n",
      "http://pandas.pydata.org/pandas-docs/stable/indexing.html#ix-indexer-is-deprecated\n",
      "  if __name__ == '__main__':\n",
      "E:\\Anaconda\\DATA\\lib\\site-packages\\ipykernel_launcher.py:11: DeprecationWarning: \n",
      ".ix is deprecated. Please use\n",
      ".loc for label based indexing or\n",
      ".iloc for positional indexing\n",
      "\n",
      "See the documentation here:\n",
      "http://pandas.pydata.org/pandas-docs/stable/indexing.html#ix-indexer-is-deprecated\n",
      "  # This is added back by InteractiveShellApp.init_path()\n",
      "E:\\Anaconda\\DATA\\lib\\site-packages\\ipykernel_launcher.py:13: DeprecationWarning: \n",
      ".ix is deprecated. Please use\n",
      ".loc for label based indexing or\n",
      ".iloc for positional indexing\n",
      "\n",
      "See the documentation here:\n",
      "http://pandas.pydata.org/pandas-docs/stable/indexing.html#ix-indexer-is-deprecated\n",
      "  del sys.path[0]\n"
     ]
    }
   ],
   "source": [
    "import sys\n",
    "import pandas as pd\n",
    "data = {\"color\":['b','c',\"g\",\"r\",\"w\"],\n",
    "       'object':['ball','pen','pencil','paper','mug'],\n",
    "       'price':[1.2,3.4,1,0.6,5]}\n",
    "frame = pd.DataFrame(data)\n",
    "\n",
    "# 选择行数据\n",
    "print('='*30)\n",
    "print(frame.ix[2])\n",
    "print('='*30)\n",
    "print(frame.ix[0:2])\n",
    "print('='*30)\n",
    "print(frame.ix[0:1])"
   ]
  },
  {
   "cell_type": "code",
   "execution_count": 48,
   "metadata": {},
   "outputs": [
    {
     "name": "stdout",
     "output_type": "stream",
     "text": [
      "  color  object  price\n",
      "0     b    ball    1.2\n",
      "1     c     pen    3.4\n",
      "2     g  pencil    1.0\n",
      "3     r   paper    0.6\n",
      "4     w     mug    5.0\n",
      "==============================\n",
      "  color  object  price\n",
      "1     c     pen    3.4\n",
      "2     g  pencil    1.0\n"
     ]
    }
   ],
   "source": [
    "# 可以使用指定索引来选择想要的行\n",
    "import pandas as pd\n",
    "data = {\"color\":['b','c',\"g\",\"r\",\"w\"],\n",
    "       'object':['ball','pen','pencil','paper','mug'],\n",
    "       'price':[1.2,3.4,1,0.6,5]}\n",
    "frame = pd.DataFrame(data)\n",
    "print(frame)\n",
    "print('='*30)\n",
    "# 选择想要的连续行\n",
    "print(frame[1:3])\n",
    "\n",
    "# 选择不同行"
   ]
  },
  {
   "cell_type": "code",
   "execution_count": 50,
   "metadata": {},
   "outputs": [
    {
     "name": "stdout",
     "output_type": "stream",
     "text": [
      "paper\n"
     ]
    }
   ],
   "source": [
    "# 选择某个元素,依次制定并元素所在的行和列的名称，索引或标签\n",
    "print(frame['object'][3])"
   ]
  },
  {
   "cell_type": "code",
   "execution_count": 56,
   "metadata": {},
   "outputs": [
    {
     "name": "stdout",
     "output_type": "stream",
     "text": [
      "item color  object  price\n",
      "id                       \n",
      "0        b    ball    1.2\n",
      "1        c     pen    3.4\n",
      "2        g  pencil    1.0\n",
      "3        r   paper    0.6\n",
      "4        w     mug    5.0\n"
     ]
    }
   ],
   "source": [
    "# 可以使用name属性为这两个二级标签指定标签\n",
    "import pandas as pd\n",
    "data = {\"color\":['b','c',\"g\",\"r\",\"w\"],\n",
    "       'object':['ball','pen','pencil','paper','mug'],\n",
    "       'price':[1.2,3.4,1,0.6,5]}\n",
    "\n",
    "frame = pd.DataFrame(data)\n",
    "frame.index.name = 'id'\n",
    "frame.columns.name = 'item'\n",
    "\n",
    "print(frame)"
   ]
  },
  {
   "cell_type": "code",
   "execution_count": 59,
   "metadata": {},
   "outputs": [
    {
     "name": "stdout",
     "output_type": "stream",
     "text": [
      "item color  object  price  new\n",
      "id                            \n",
      "0        b    ball    1.2   12\n",
      "1        c     pen    3.4    2\n",
      "2        g  pencil    1.0    3\n",
      "3        r   paper    0.6    4\n",
      "4        w     mug    5.0    4\n"
     ]
    }
   ],
   "source": [
    "# 添加列的方法，直接采取赋值的方法就可以了\n",
    "# 更新也是直接给想要的列赋值就可以\n",
    "frame['new'] = [12,2,3,4,4]\n",
    "print(frame)"
   ]
  },
  {
   "cell_type": "code",
   "execution_count": 78,
   "metadata": {},
   "outputs": [
    {
     "name": "stdout",
     "output_type": "stream",
     "text": [
      "   aa  bb  cc dd\n",
      "0   0   1   3  a\n",
      "1   1   3   2  b\n",
      "2   2   5   3  c\n",
      "3   3   7   2  d\n",
      "4   4   9   2  e\n",
      "==============================\n",
      "   aa  bb  cc dd\n",
      "0   0   1   3  a\n",
      "1   1   3   2  b\n",
      "2   2   5   3  c\n",
      "3   7   7   2  d\n",
      "4   4   9   2  e\n"
     ]
    },
    {
     "name": "stderr",
     "output_type": "stream",
     "text": [
      "E:\\Anaconda\\DATA\\lib\\site-packages\\ipykernel_launcher.py:22: SettingWithCopyWarning: \n",
      "A value is trying to be set on a copy of a slice from a DataFrame\n",
      "\n",
      "See the caveats in the documentation: http://pandas.pydata.org/pandas-docs/stable/indexing.html#indexing-view-versus-copy\n"
     ]
    }
   ],
   "source": [
    "# 也可以使用Series对象给dataframe创建新的列\n",
    "import numpy as np\n",
    "import pandas as pd \n",
    "\n",
    "ser1 = np.arange(5)\n",
    "ser2 = np.arange(1,10,2)\n",
    "ser3 = np.random.randint(2,5,5)\n",
    "ser4 = ['a','b','c','d','e']\n",
    "\n",
    "data_frame = pd.DataFrame()\n",
    "\n",
    "# 添加数据\n",
    "data_frame['aa'] = ser1\n",
    "data_frame['bb'] = ser2\n",
    "data_frame['cc'] = ser3\n",
    "data_frame['dd'] = ser4\n",
    "\n",
    "print(data_frame)\n",
    "print('='*30)\n",
    " \n",
    "# 修改单个数据\n",
    "data_frame['aa'][3] = 7\n",
    "print(data_frame)"
   ]
  },
  {
   "cell_type": "code",
   "execution_count": null,
   "metadata": {},
   "outputs": [],
   "source": []
  }
 ],
 "metadata": {
  "kernelspec": {
   "display_name": "Python 3",
   "language": "python",
   "name": "python3"
  },
  "language_info": {
   "codemirror_mode": {
    "name": "ipython",
    "version": 3
   },
   "file_extension": ".py",
   "mimetype": "text/x-python",
   "name": "python",
   "nbconvert_exporter": "python",
   "pygments_lexer": "ipython3",
   "version": "3.7.0"
  }
 },
 "nbformat": 4,
 "nbformat_minor": 2
}
