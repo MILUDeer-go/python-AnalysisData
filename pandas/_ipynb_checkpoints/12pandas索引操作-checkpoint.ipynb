{
 "cells": [
  {
   "cell_type": "code",
   "execution_count": 6,
   "metadata": {},
   "outputs": [
    {
     "name": "stdout",
     "output_type": "stream",
     "text": [
      "<class 'pandas.core.indexes.range.RangeIndex'>\n"
     ]
    },
    {
     "data": {
      "text/plain": [
       "0    1\n",
       "1    2\n",
       "2    3\n",
       "dtype: int64"
      ]
     },
     "execution_count": 6,
     "metadata": {},
     "output_type": "execute_result"
    }
   ],
   "source": [
    "# 1. Series和DataFrame中的索引都是Index对象\n",
    "import pandas as pd\n",
    "ser_obj = pd.Series([1,2,3])\n",
    "\n",
    "print(type(ser_obj.index))\n",
    "ser_obj"
   ]
  },
  {
   "cell_type": "code",
   "execution_count": 10,
   "metadata": {},
   "outputs": [
    {
     "name": "stdout",
     "output_type": "stream",
     "text": [
      "a    1\n",
      "b    2\n",
      "c    3\n",
      "d    4\n",
      "e    5\n",
      "dtype: int64\n"
     ]
    },
    {
     "data": {
      "text/plain": [
       "a    1\n",
       "b    2\n",
       "c    3\n",
       "d    4\n",
       "e    5\n",
       "dtype: int64"
      ]
     },
     "execution_count": 10,
     "metadata": {},
     "output_type": "execute_result"
    }
   ],
   "source": [
    "# 指定索引: index 指定行索引名\n",
    "ser_obj = pd.Series([1,2,3,4,5], index = ['a','b','c','d','e'])\n",
    "print(ser_obj.head())\n",
    "ser_obj"
   ]
  },
  {
   "cell_type": "code",
   "execution_count": 15,
   "metadata": {},
   "outputs": [
    {
     "data": {
      "text/plain": [
       "年级    二年级\n",
       "年龄     18\n",
       "班级    123\n",
       "dtype: object"
      ]
     },
     "execution_count": 15,
     "metadata": {},
     "output_type": "execute_result"
    }
   ],
   "source": [
    "# 从字典创建导入和创建数据\n",
    "import pandas as pd\n",
    "data ={'年级':'二年级', '年龄':'18', '班级':'123'}\n",
    "ser_obj = pd.Series(data)\n",
    "ser_obj"
   ]
  },
  {
   "cell_type": "code",
   "execution_count": 22,
   "metadata": {},
   "outputs": [
    {
     "name": "stdout",
     "output_type": "stream",
     "text": [
      "a    1\n",
      "b    2\n",
      "c    3\n",
      "dtype: int64\n",
      "2\n",
      "2\n"
     ]
    }
   ],
   "source": [
    "# 使用行索引\n",
    "import pandas as pd\n",
    "ser_obj = pd.Series([1,2,3],index = ['a','b','c'])\n",
    "\n",
    "print(ser_obj.head())\n",
    "print(ser_obj['b']) #找出索引唯'b'的数据\n",
    "print(ser_obj[1])  #找出索引唯 1 的数据，这里与b的索引是一样的值"
   ]
  },
  {
   "cell_type": "code",
   "execution_count": 27,
   "metadata": {},
   "outputs": [
    {
     "name": "stdout",
     "output_type": "stream",
     "text": [
      "a    1\n",
      "b    2\n",
      "c    3\n",
      "dtype: int64\n",
      "a    1\n",
      "b    2\n",
      "c    3\n",
      "d    4\n",
      "dtype: int64\n",
      "==============================\n",
      "a    1\n",
      "b    2\n",
      "c    3\n",
      "d    4\n",
      "e    5\n",
      "f    6\n",
      "dtype: int64\n",
      "d    4\n",
      "e    5\n",
      "f    6\n",
      "dtype: int64\n"
     ]
    }
   ],
   "source": [
    "# 类似python的切片索引\n",
    "import pandas as pd\n",
    "ser_obj = pd.Series([1,2,3,4,5,6],index = ['a','b','c','d','e','f'])\n",
    "\n",
    "print(ser_obj[0:3])   # 找出索引0-3的数据，不包括索引为3的\n",
    "print(ser_obj['a':'d'])   #找出索引a-d的数据，不包括d\n",
    "print('='*30)\n",
    "print(ser_obj[:6])\n",
    "print(ser_obj[3:])\n"
   ]
  },
  {
   "cell_type": "code",
   "execution_count": 28,
   "metadata": {},
   "outputs": [
    {
     "name": "stdout",
     "output_type": "stream",
     "text": [
      "a    1\n",
      "d    4\n",
      "f    6\n",
      "dtype: int64\n",
      "a    1\n",
      "c    3\n",
      "e    5\n",
      "dtype: int64\n"
     ]
    }
   ],
   "source": [
    "# 不连续索引就用数组表示\n",
    "from pandas import *\n",
    "\n",
    "ser_obj = Series([1,2,3,4,5,6],index = ['a','b','c','d','e','f'])\n",
    "print(ser_obj[[0, 3, 5]]) # 找出索引为0，3，5的数据\n",
    "print(ser_obj[['a','c','e']])  # 找出索引为a,c,e的数据\n"
   ]
  },
  {
   "cell_type": "code",
   "execution_count": 38,
   "metadata": {},
   "outputs": [
    {
     "name": "stdout",
     "output_type": "stream",
     "text": [
      "a    False\n",
      "b    False\n",
      "c    False\n",
      "d     True\n",
      "e     True\n",
      "f     True\n",
      "dtype: bool\n",
      "==============================\n",
      "d    4\n",
      "e    5\n",
      "f    6\n",
      "dtype: int64\n",
      "==============================\n",
      "a    1\n",
      "b    2\n",
      "dtype: int64\n"
     ]
    }
   ],
   "source": [
    "# 使用bool索引\n",
    "from pandas import *\n",
    "ser_obj = Series([1,2,3,4,5,6],index = ['a','b','c','d','e','f'])\n",
    "\n",
    "ser_bool = ser_obj > 3  # 大于3的数据就设置为Ture\n",
    "print(ser_bool)\n",
    "print('='*30)\n",
    "print(ser_obj[ser_bool])# 打印大于3的数据\n",
    "print('='*30)\n",
    "print(ser_obj[ser_obj < 3])# 打印小于3的数据"
   ]
  },
  {
   "cell_type": "code",
   "execution_count": 43,
   "metadata": {},
   "outputs": [
    {
     "name": "stdout",
     "output_type": "stream",
     "text": [
      "<class 'pandas.core.indexes.range.RangeIndex'>\n",
      "RangeIndex(start=0, stop=5, step=1)\n",
      "   a  b  c  d\n",
      "0  5  5  6  5\n",
      "1  3  3  6  4\n",
      "2  4  5  5  4\n",
      "3  5  6  5  4\n",
      "4  3  3  6  6\n"
     ]
    }
   ],
   "source": [
    "# DataFrame索引\n",
    "# 1. columns 指定列索引名\n",
    "import numpy as np\n",
    "data = np.random.randint(3,7, size = (5,4))\n",
    "\n",
    "df_obj = pd.DataFrame(data, columns = ['a', 'b', 'c', 'd'])\n",
    "                      \n",
    "print(type(df_obj.index))\n",
    "print(df_obj.index)\n",
    "\n",
    "print(df_obj)"
   ]
  },
  {
   "cell_type": "code",
   "execution_count": 48,
   "metadata": {},
   "outputs": [
    {
     "name": "stdout",
     "output_type": "stream",
     "text": [
      "0    5\n",
      "1    3\n",
      "2    4\n",
      "3    5\n",
      "4    3\n",
      "Name: a, dtype: int32\n",
      "   a  c\n",
      "0  5  6\n",
      "1  3  6\n",
      "2  4  5\n",
      "3  5  5\n",
      "4  3  6\n"
     ]
    }
   ],
   "source": [
    "# 使用列索引\n",
    "print(df_obj['a'])\n",
    "\n",
    "# 不连续的索引\n",
    "print(df_obj[['a','c']])"
   ]
  },
  {
   "cell_type": "code",
   "execution_count": 52,
   "metadata": {},
   "outputs": [
    {
     "name": "stdout",
     "output_type": "stream",
     "text": [
      "b    2\n",
      "c    3\n",
      "d    4\n",
      "dtype: int64\n",
      "==============================\n",
      "b    2\n",
      "c    3\n",
      "d    4\n",
      "dtype: int64\n",
      "==============================\n",
      "0    5\n",
      "1    3\n",
      "2    4\n",
      "3    5\n",
      "4    3\n",
      "Name: a, dtype: int32\n",
      "==============================\n",
      "   a  b\n",
      "0  5  5\n",
      "1  3  3\n",
      "2  4  5\n"
     ]
    }
   ],
   "source": [
    "# 1. loc 标签索引\n",
    "# DataFrame 不能直接切片，可以通过loc来做切片\n",
    "\n",
    "# loc是基于标签名的索引，也就是我们自定义的索引名\n",
    "\n",
    "# 标签索引 loc\n",
    "# Series\n",
    "\n",
    "print(ser_obj['b':'d'])\n",
    "print('='*30)\n",
    "print(ser_obj.loc['b':'d'])\n",
    "print('='*30)\n",
    "# DataFrame\n",
    "\n",
    "print(df_obj['a'])\n",
    "print('='*30)\n",
    "# 第一个参数索引行，第二个参数是列\n",
    "print(df_obj.loc[0:2, ['a','b']])"
   ]
  },
  {
   "cell_type": "code",
   "execution_count": 56,
   "metadata": {},
   "outputs": [
    {
     "name": "stdout",
     "output_type": "stream",
     "text": [
      "b    2\n",
      "c    3\n",
      "dtype: int64\n",
      "==============================\n",
      "b    2\n",
      "c    3\n",
      "dtype: int64\n",
      "==============================\n",
      "   a  b\n",
      "0  5  5\n",
      "1  3  3\n"
     ]
    }
   ],
   "source": [
    "# 2. iloc 位置索引\n",
    "# 作用和loc一样，不过是基于索引编号来索引\n",
    "\n",
    "# 示例代码：\n",
    "\n",
    "# 整型位置索引 iloc\n",
    "# Series\n",
    "print(ser_obj[1:3])\n",
    "print('='*30)\n",
    "print(ser_obj.iloc[1:3])\n",
    "print('='*30)\n",
    "# DataFrame\n",
    "print(df_obj.iloc[0:2, 0:2]) # 注意和df_obj.loc[0:2, 'a']的区别"
   ]
  },
  {
   "cell_type": "code",
   "execution_count": 57,
   "metadata": {},
   "outputs": [
    {
     "name": "stdout",
     "output_type": "stream",
     "text": [
      "b    2\n",
      "c    3\n",
      "dtype: int64\n",
      "b    2\n",
      "c    3\n",
      "dtype: int64\n",
      "==============================\n",
      "0    5\n",
      "1    3\n",
      "2    4\n",
      "Name: a, dtype: int32\n",
      "0    5\n",
      "1    3\n",
      "2    4\n",
      "Name: a, dtype: int32\n"
     ]
    },
    {
     "name": "stderr",
     "output_type": "stream",
     "text": [
      "E:\\anaconde\\data\\lib\\site-packages\\ipykernel_launcher.py:10: DeprecationWarning: \n",
      ".ix is deprecated. Please use\n",
      ".loc for label based indexing or\n",
      ".iloc for positional indexing\n",
      "\n",
      "See the documentation here:\n",
      "http://pandas.pydata.org/pandas-docs/stable/indexing.html#ix-indexer-is-deprecated\n",
      "  # Remove the CWD from sys.path while we load stuff.\n",
      "E:\\anaconde\\data\\lib\\site-packages\\ipykernel_launcher.py:11: DeprecationWarning: \n",
      ".ix is deprecated. Please use\n",
      ".loc for label based indexing or\n",
      ".iloc for positional indexing\n",
      "\n",
      "See the documentation here:\n",
      "http://pandas.pydata.org/pandas-docs/stable/indexing.html#ix-indexer-is-deprecated\n",
      "  # This is added back by InteractiveShellApp.init_path()\n",
      "E:\\anaconde\\data\\lib\\site-packages\\ipykernel_launcher.py:15: DeprecationWarning: \n",
      ".ix is deprecated. Please use\n",
      ".loc for label based indexing or\n",
      ".iloc for positional indexing\n",
      "\n",
      "See the documentation here:\n",
      "http://pandas.pydata.org/pandas-docs/stable/indexing.html#ix-indexer-is-deprecated\n",
      "  from ipykernel import kernelapp as app\n"
     ]
    }
   ],
   "source": [
    "# 3. ix 标签与位置混合索引\n",
    "# ix是以上二者的综合，既可以使用索引编号，又可以使用自定义索引，要视情况不同来使用，\n",
    "\n",
    "# 如果索引既有数字又有英文，那么这种方式是不建议使用的，容易导致定位的混乱。\n",
    "\n",
    "# 示例代码：\n",
    "\n",
    "# 混合索引 ix\n",
    "# Series\n",
    "print(ser_obj.ix[1:3])\n",
    "print(ser_obj.ix['b':'c'])\n",
    "print('='*30)\n",
    "# DataFrame\n",
    "print(df_obj.loc[0:2, 'a'])\n",
    "print(df_obj.ix[0:2, 0])"
   ]
  },
  {
   "cell_type": "code",
   "execution_count": 60,
   "metadata": {},
   "outputs": [
    {
     "name": "stdout",
     "output_type": "stream",
     "text": [
      "   a  b  c  d\n",
      "0  6  3  6  4\n",
      "1  3  6  6  6\n",
      "2  4  3  3  6\n",
      "==============================\n",
      "   a  b  c  d  e\n",
      "0  6  3  6  4  1\n",
      "1  3  6  6  6  2\n",
      "2  4  3  3  6  3\n",
      "==============================\n",
      "   b  c  d  e\n",
      "0  3  6  4  1\n",
      "1  6  6  6  2\n",
      "2  3  3  6  3\n",
      "==============================\n",
      "c    1\n",
      "b    2\n",
      "a    3\n",
      "d    4\n",
      "dtype: int64\n"
     ]
    }
   ],
   "source": [
    "import numpy as np\n",
    "data = np.random.randint(3,7, size = (3,4))\n",
    "\n",
    "df_obj = pd.DataFrame(data, columns = ['a', 'b', 'c', 'd'])\n",
    "print(df_obj)\n",
    "print('='*30)\n",
    "# 添加一列\n",
    "df_obj['e'] = [1,2,3]\n",
    "print(df_obj)\n",
    "print('='*30)\n",
    "#删除一列\n",
    "del df_obj['a']\n",
    "print(df_obj)\n",
    "print('='*30)\n",
    "# 重置索引\n",
    "ser_obj1 = pd.Series([1,2,3,4],index=['c','b','a','d'])\n",
    "ser_obj1\n",
    "print(ser_obj1)"
   ]
  }
 ],
 "metadata": {
  "kernelspec": {
   "display_name": "Python 3",
   "language": "python",
   "name": "python3"
  },
  "language_info": {
   "codemirror_mode": {
    "name": "ipython",
    "version": 3
   },
   "file_extension": ".py",
   "mimetype": "text/x-python",
   "name": "python",
   "nbconvert_exporter": "python",
   "pygments_lexer": "ipython3",
   "version": "3.7.0"
  }
 },
 "nbformat": 4,
 "nbformat_minor": 2
}
