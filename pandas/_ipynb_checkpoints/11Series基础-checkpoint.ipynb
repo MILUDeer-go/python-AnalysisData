{
 "cells": [
  {
   "cell_type": "code",
   "execution_count": 6,
   "metadata": {},
   "outputs": [
    {
     "name": "stdout",
     "output_type": "stream",
     "text": [
      "a    1\n",
      "b    2\n",
      "c    3\n",
      "d    4\n",
      "dtype: int64\n",
      "========================================\n",
      "[1 2 3 4]\n",
      "Index(['a', 'b', 'c', 'd'], dtype='object')\n"
     ]
    }
   ],
   "source": [
    "# Series这类数据结构多用于存储一个序列的一维数据，DataFrame作为更复杂的数据结构，则多用于存储多维数据\n",
    "import pandas as pd \n",
    "\n",
    "x = pd.Series([1,2,3,4],index=[\"a\",\"b\",\"c\",\"d\"])\n",
    "print(x)\n",
    "print(\"=\"*40)\n",
    "\n",
    "print(x.values)\n",
    "print(x.index)\n"
   ]
  },
  {
   "cell_type": "code",
   "execution_count": 12,
   "metadata": {},
   "outputs": [
    {
     "name": "stdout",
     "output_type": "stream",
     "text": [
      "1\n",
      "==============================\n",
      "1\n"
     ]
    }
   ],
   "source": [
    "# 选取元素,通过下标\n",
    "print(x[0])\n",
    "print(\"=\"*30)\n",
    "# 也可以通过索引\n",
    "print(x[\"a\"])"
   ]
  },
  {
   "cell_type": "code",
   "execution_count": 14,
   "metadata": {},
   "outputs": [
    {
     "name": "stdout",
     "output_type": "stream",
     "text": [
      "a    1\n",
      "b    2\n",
      "dtype: int64\n"
     ]
    }
   ],
   "source": [
    "# 选取相邻的元素\n",
    "print(x[0:2])"
   ]
  },
  {
   "cell_type": "code",
   "execution_count": 18,
   "metadata": {},
   "outputs": [
    {
     "name": "stdout",
     "output_type": "stream",
     "text": [
      "b    2\n",
      "d    4\n",
      "dtype: int64\n",
      "a    1\n",
      "d    4\n",
      "dtype: int64\n"
     ]
    }
   ],
   "source": [
    "# 选取不连续的元素(通过列表来嵌套列表)\n",
    "print(x[[1,3]])\n",
    "print(x[[\"a\",\"d\"]])"
   ]
  },
  {
   "cell_type": "code",
   "execution_count": 20,
   "metadata": {},
   "outputs": [
    {
     "name": "stdout",
     "output_type": "stream",
     "text": [
      "a    10\n",
      "b     2\n",
      "c     3\n",
      "d     4\n",
      "dtype: int64\n"
     ]
    }
   ],
   "source": [
    "# 直接通过赋值就好\n",
    "x[0] = 10\n",
    "print(x)"
   ]
  },
  {
   "cell_type": "code",
   "execution_count": 22,
   "metadata": {},
   "outputs": [
    {
     "name": "stdout",
     "output_type": "stream",
     "text": [
      "a    10\n",
      "b     2\n",
      "c     3\n",
      "d    24\n",
      "dtype: int64\n"
     ]
    }
   ],
   "source": [
    "# 通过索引来赋值\n",
    "x[\"d\"] = 24\n",
    "print(x)"
   ]
  },
  {
   "cell_type": "code",
   "execution_count": 26,
   "metadata": {},
   "outputs": [
    {
     "name": "stdout",
     "output_type": "stream",
     "text": [
      "0    1\n",
      "1    2\n",
      "2    3\n",
      "3    4\n",
      "4    5\n",
      "5    6\n",
      "dtype: int32\n",
      "0   -5\n",
      "1    2\n",
      "2    3\n",
      "3    4\n",
      "4    5\n",
      "5    6\n",
      "dtype: int32\n"
     ]
    }
   ],
   "source": [
    "# 使用numpy 数组来给pandas赋值\n",
    "import numpy as np\n",
    "arr = np.array([1,2,3,4,5,6])\n",
    "\n",
    "s = pd.Series(arr)\n",
    "print(s)\n",
    "\n",
    "\n",
    "# 修改数组响应的数组就会改变\n",
    "arr[0] = -5\n",
    "print(s)"
   ]
  },
  {
   "cell_type": "code",
   "execution_count": 31,
   "metadata": {},
   "outputs": [
    {
     "name": "stdout",
     "output_type": "stream",
     "text": [
      "0    False\n",
      "1    False\n",
      "2    False\n",
      "3     True\n",
      "4     True\n",
      "5     True\n",
      "dtype: bool\n",
      "3    4\n",
      "4    5\n",
      "5    6\n",
      "dtype: int32\n"
     ]
    }
   ],
   "source": [
    "# 筛选元素(bool型来判断)\n",
    "print(s > 3)\n",
    "\n",
    "print(s[s>3])"
   ]
  },
  {
   "cell_type": "code",
   "execution_count": 37,
   "metadata": {},
   "outputs": [
    {
     "name": "stdout",
     "output_type": "stream",
     "text": [
      "0   -2.5\n",
      "1    1.0\n",
      "2    1.5\n",
      "3    2.0\n",
      "4    2.5\n",
      "5    3.0\n",
      "dtype: float64\n",
      "0    25\n",
      "1     4\n",
      "2     9\n",
      "3    16\n",
      "4    25\n",
      "5    36\n",
      "dtype: int32\n"
     ]
    }
   ],
   "source": [
    "# numpy数组可用的运算符适用pandas，加减乘除都可\n",
    "print(s / 2)\n",
    "print(s ** 2)"
   ]
  },
  {
   "cell_type": "code",
   "execution_count": 41,
   "metadata": {},
   "outputs": [
    {
     "data": {
      "text/plain": [
       "0    1.609438\n",
       "1    2.484907\n",
       "2    2.564949\n",
       "3    2.639057\n",
       "4    2.708050\n",
       "5    2.772589\n",
       "dtype: float64"
      ]
     },
     "execution_count": 41,
     "metadata": {},
     "output_type": "execute_result"
    }
   ],
   "source": [
    "# 可以使用很多函数\n",
    "s1 = s + 10\n",
    "np.log(s1)"
   ]
  },
  {
   "cell_type": "code",
   "execution_count": 47,
   "metadata": {},
   "outputs": [
    {
     "data": {
      "text/plain": [
       "array([1, 2, 3, 4, 5, 9, 8, 7], dtype=int64)"
      ]
     },
     "execution_count": 47,
     "metadata": {},
     "output_type": "execute_result"
    }
   ],
   "source": [
    "# 可以使用unique()函数来输出去重后的数据\n",
    "x1 = np.array([1,2,1,2,3,4,5,9,8,7])\n",
    "x3 = pd.Series(x1)\n",
    "x2 = x3.unique()\n",
    "x2"
   ]
  },
  {
   "cell_type": "code",
   "execution_count": 50,
   "metadata": {},
   "outputs": [
    {
     "data": {
      "text/plain": [
       "1    4\n",
       "5    3\n",
       "2    2\n",
       "9    1\n",
       "8    1\n",
       "7    1\n",
       "4    1\n",
       "3    1\n",
       "dtype: int64"
      ]
     },
     "execution_count": 50,
     "metadata": {},
     "output_type": "execute_result"
    }
   ],
   "source": [
    "# 统计元素出现的次数value_counts\n",
    "t = np.array([1,2,1,1,1,2,3,4,5,5,5,9,8,7])\n",
    "t1 = pd.Series(t)\n",
    "t1.value_counts()\n"
   ]
  },
  {
   "cell_type": "code",
   "execution_count": 6,
   "metadata": {},
   "outputs": [
    {
     "data": {
      "text/plain": [
       "0     True\n",
       "1     True\n",
       "2    False\n",
       "3    False\n",
       "4     True\n",
       "dtype: bool"
      ]
     },
     "execution_count": 6,
     "metadata": {},
     "output_type": "execute_result"
    }
   ],
   "source": [
    "# isin（）判断所属关系\n",
    "import pandas as pd\n",
    "s11 = pd.Series([1,4,6,5,4])\n",
    "s11.isin([1,4])\n"
   ]
  },
  {
   "cell_type": "code",
   "execution_count": 9,
   "metadata": {},
   "outputs": [
    {
     "name": "stdout",
     "output_type": "stream",
     "text": [
      "0     5.0\n",
      "1    -3.0\n",
      "2     NaN\n",
      "3    14.0\n",
      "dtype: float64\n"
     ]
    }
   ],
   "source": [
    "# np.nan数据\n",
    "import numpy as np\n",
    "\n",
    "s2 = pd.Series([5,-3,np.NaN,14])\n",
    "print(s2)"
   ]
  },
  {
   "cell_type": "code",
   "execution_count": 13,
   "metadata": {},
   "outputs": [
    {
     "name": "stdout",
     "output_type": "stream",
     "text": [
      "0    False\n",
      "1    False\n",
      "2     True\n",
      "3    False\n",
      "dtype: bool\n",
      "==============================\n",
      "0     True\n",
      "1     True\n",
      "2    False\n",
      "3     True\n",
      "dtype: bool\n"
     ]
    }
   ],
   "source": [
    "# isnull()和notnull()函数来识别没有对应元素的索引\n",
    "print(s2.isnull())\n",
    "print(\"=\"*30)\n",
    "print(s2.notnull())"
   ]
  },
  {
   "cell_type": "code",
   "execution_count": 15,
   "metadata": {},
   "outputs": [
    {
     "name": "stdout",
     "output_type": "stream",
     "text": [
      "red       2000\n",
      "blue      1000\n",
      "yellow     500\n",
      "orange    1000\n",
      "dtype: int64\n"
     ]
    }
   ],
   "source": [
    "# Series对象当作字典\n",
    "mydict = {'red':2000, 'blue':1000, 'yellow':500, 'orange':1000}\n",
    "mySeries = pd.Series(mydict)\n",
    "print(mySeries)"
   ]
  },
  {
   "cell_type": "code",
   "execution_count": 17,
   "metadata": {},
   "outputs": [
    {
     "name": "stdout",
     "output_type": "stream",
     "text": [
      "black        NaN\n",
      "blue         NaN\n",
      "orange       NaN\n",
      "red       2400.0\n",
      "yellow    1000.0\n",
      "dtype: float64\n"
     ]
    }
   ],
   "source": [
    "# Series对象之间的运算,只求部分元素标签相同的两个Series对象之和\n",
    "mydict2 = {'red':400, 'yellow':500, 'black':400}\n",
    "mySeries1 = pd.Series(mydict2)\n",
    "print(mySeries + mySeries1)"
   ]
  },
  {
   "cell_type": "code",
   "execution_count": null,
   "metadata": {},
   "outputs": [],
   "source": []
  }
 ],
 "metadata": {
  "kernelspec": {
   "display_name": "Python 3",
   "language": "python",
   "name": "python3"
  },
  "language_info": {
   "codemirror_mode": {
    "name": "ipython",
    "version": 3
   },
   "file_extension": ".py",
   "mimetype": "text/x-python",
   "name": "python",
   "nbconvert_exporter": "python",
   "pygments_lexer": "ipython3",
   "version": "3.7.0"
  }
 },
 "nbformat": 4,
 "nbformat_minor": 2
}
