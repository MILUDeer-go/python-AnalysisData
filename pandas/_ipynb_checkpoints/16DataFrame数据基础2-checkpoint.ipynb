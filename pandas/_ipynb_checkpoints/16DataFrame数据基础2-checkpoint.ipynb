{
 "cells": [
  {
   "cell_type": "code",
   "execution_count": 5,
   "metadata": {},
   "outputs": [
    {
     "name": "stdout",
     "output_type": "stream",
     "text": [
      "1    0\n",
      "1    4\n",
      "dtype: int64\n",
      "<class 'pandas.core.series.Series'>\n"
     ]
    }
   ],
   "source": [
    "# 含重复标签的Index\n",
    "import pandas as pd\n",
    "serd = pd.Series(range(6),index=[1,2,3,4,1,3])\n",
    "\n",
    "print(serd[1])\n",
    "print(type(serd))"
   ]
  },
  {
   "cell_type": "code",
   "execution_count": 6,
   "metadata": {},
   "outputs": [
    {
     "name": "stdout",
     "output_type": "stream",
     "text": [
      "False\n"
     ]
    }
   ],
   "source": [
    "# 使用is_unique判断Series和dataframe是否存在重复的索引\n",
    "print(serd.index.is_unique)"
   ]
  },
  {
   "cell_type": "code",
   "execution_count": 15,
   "metadata": {},
   "outputs": [
    {
     "name": "stdout",
     "output_type": "stream",
     "text": [
      "a    0\n",
      "b    1\n",
      "c    2\n",
      "d    3\n",
      "dtype: int64\n",
      "==============================\n",
      "c        2\n",
      "two      3\n",
      "three    3\n",
      "a        0\n",
      "dtype: int64\n",
      "==============================\n",
      "a    0\n",
      "n    3\n",
      "b    1\n",
      "c    2\n",
      "e    3\n",
      "d    3\n",
      "dtype: int64\n"
     ]
    }
   ],
   "source": [
    "#更换索引，使用reindex可以更换Series对象的索引\n",
    "import pandas as pd\n",
    "\n",
    "serd = pd.Series(range(4),index=['a','b','c','d'])\n",
    "print(serd)\n",
    "print(\"=\"*30)\n",
    "print(serd.reindex(['c','two','three','a'],method=\"ffill\"))   # 默认按照位置新添加的元素相对位置的上个元素填充\n",
    "print(\"=\"*30)\n",
    "print(serd.reindex(['a','n','b','c','e','d'],method=\"ffill\"))\n"
   ]
  },
  {
   "cell_type": "code",
   "execution_count": 19,
   "metadata": {},
   "outputs": [
    {
     "name": "stdout",
     "output_type": "stream",
     "text": [
      "6    0\n",
      "5    1\n",
      "4    2\n",
      "3    3\n",
      "2    4\n",
      "1    5\n",
      "dtype: int64\n",
      "删除索引为5，4 数据为：\n",
      "6    0\n",
      "3    3\n",
      "2    4\n",
      "1    5\n",
      "dtype: int64\n"
     ]
    }
   ],
   "source": [
    "# 删除元素（Series对象）使用drop方法\n",
    "import pandas as pd \n",
    "serd = pd.Series(range(6),index=[6,5,4,3,2,1])\n",
    "print(serd)\n",
    "print(\"删除索引为5，4 数据为：\")\n",
    "print(serd.drop([5,4]))\n"
   ]
  },
  {
   "cell_type": "code",
   "execution_count": 34,
   "metadata": {},
   "outputs": [
    {
     "name": "stdout",
     "output_type": "stream",
     "text": [
      "    1   2   3   4\n",
      "a   0   1   2   3\n",
      "b   4   5   6   7\n",
      "c   8   9  10  11\n",
      "d  12  13  14  15\n",
      "==============================\n",
      "    1   2   3   4\n",
      "b   4   5   6   7\n",
      "c   8   9  10  11\n",
      "d  12  13  14  15\n",
      "==============================\n",
      "    3   4\n",
      "a   2   3\n",
      "b   6   7\n",
      "c  10  11\n",
      "d  14  15\n"
     ]
    }
   ],
   "source": [
    "# 删除dataframe数据\n",
    "import numpy as np\n",
    "import pandas as pandas\n",
    "\n",
    "serd2 = pd.DataFrame(np.arange(16).reshape(4,4),\n",
    "                    index=['a','b','c','d'],\n",
    "                    columns=[1,2,3,4])\n",
    "print(serd2)\n",
    "print(\"=\"*30)\n",
    "print(serd2.drop(\"a\"))   # 删除行索引为a的数据\n",
    "print(\"=\"*30)\n",
    "print(serd2.drop([1,2],axis=1))   # 删除列的数据需要指定axis=1\n"
   ]
  },
  {
   "cell_type": "markdown",
   "metadata": {},
   "source": [
    "算术和数据对齐"
   ]
  },
  {
   "cell_type": "code",
   "execution_count": 41,
   "metadata": {},
   "outputs": [
    {
     "data": {
      "text/plain": [
       "a     NaN\n",
       "b     NaN\n",
       "c    10.0\n",
       "d     NaN\n",
       "j     NaN\n",
       "x     NaN\n",
       "y     NaN\n",
       "dtype: float64"
      ]
     },
     "execution_count": 41,
     "metadata": {},
     "output_type": "execute_result"
    }
   ],
   "source": [
    "# Series对象之间的对齐\n",
    "import pandas as pd\n",
    "s1 = pd.Series([1,2,3,4],['a','b','c','d'])\n",
    "s2 = pd.Series([5,6,7,8],['x','y','c','j'])\n",
    "s1+s2\n"
   ]
  },
  {
   "cell_type": "code",
   "execution_count": 43,
   "metadata": {},
   "outputs": [
    {
     "name": "stdout",
     "output_type": "stream",
     "text": [
      "    1   2   3   4\n",
      "a   0   1   2   3\n",
      "b   4   5   6   7\n",
      "c   8   9  10  11\n",
      "d  12  13  14  15\n",
      "    0   2   3   8\n",
      "a   0   1   2   3\n",
      "r   4   5   6   7\n",
      "c   8   9  10  11\n",
      "j  12  13  14  15\n",
      "==============================\n"
     ]
    },
    {
     "data": {
      "text/html": [
       "<div>\n",
       "<style scoped>\n",
       "    .dataframe tbody tr th:only-of-type {\n",
       "        vertical-align: middle;\n",
       "    }\n",
       "\n",
       "    .dataframe tbody tr th {\n",
       "        vertical-align: top;\n",
       "    }\n",
       "\n",
       "    .dataframe thead th {\n",
       "        text-align: right;\n",
       "    }\n",
       "</style>\n",
       "<table border=\"1\" class=\"dataframe\">\n",
       "  <thead>\n",
       "    <tr style=\"text-align: right;\">\n",
       "      <th></th>\n",
       "      <th>0</th>\n",
       "      <th>1</th>\n",
       "      <th>2</th>\n",
       "      <th>3</th>\n",
       "      <th>4</th>\n",
       "      <th>8</th>\n",
       "    </tr>\n",
       "  </thead>\n",
       "  <tbody>\n",
       "    <tr>\n",
       "      <th>a</th>\n",
       "      <td>NaN</td>\n",
       "      <td>NaN</td>\n",
       "      <td>2.0</td>\n",
       "      <td>4.0</td>\n",
       "      <td>NaN</td>\n",
       "      <td>NaN</td>\n",
       "    </tr>\n",
       "    <tr>\n",
       "      <th>b</th>\n",
       "      <td>NaN</td>\n",
       "      <td>NaN</td>\n",
       "      <td>NaN</td>\n",
       "      <td>NaN</td>\n",
       "      <td>NaN</td>\n",
       "      <td>NaN</td>\n",
       "    </tr>\n",
       "    <tr>\n",
       "      <th>c</th>\n",
       "      <td>NaN</td>\n",
       "      <td>NaN</td>\n",
       "      <td>18.0</td>\n",
       "      <td>20.0</td>\n",
       "      <td>NaN</td>\n",
       "      <td>NaN</td>\n",
       "    </tr>\n",
       "    <tr>\n",
       "      <th>d</th>\n",
       "      <td>NaN</td>\n",
       "      <td>NaN</td>\n",
       "      <td>NaN</td>\n",
       "      <td>NaN</td>\n",
       "      <td>NaN</td>\n",
       "      <td>NaN</td>\n",
       "    </tr>\n",
       "    <tr>\n",
       "      <th>j</th>\n",
       "      <td>NaN</td>\n",
       "      <td>NaN</td>\n",
       "      <td>NaN</td>\n",
       "      <td>NaN</td>\n",
       "      <td>NaN</td>\n",
       "      <td>NaN</td>\n",
       "    </tr>\n",
       "    <tr>\n",
       "      <th>r</th>\n",
       "      <td>NaN</td>\n",
       "      <td>NaN</td>\n",
       "      <td>NaN</td>\n",
       "      <td>NaN</td>\n",
       "      <td>NaN</td>\n",
       "      <td>NaN</td>\n",
       "    </tr>\n",
       "  </tbody>\n",
       "</table>\n",
       "</div>"
      ],
      "text/plain": [
       "    0   1     2     3   4   8\n",
       "a NaN NaN   2.0   4.0 NaN NaN\n",
       "b NaN NaN   NaN   NaN NaN NaN\n",
       "c NaN NaN  18.0  20.0 NaN NaN\n",
       "d NaN NaN   NaN   NaN NaN NaN\n",
       "j NaN NaN   NaN   NaN NaN NaN\n",
       "r NaN NaN   NaN   NaN NaN NaN"
      ]
     },
     "execution_count": 43,
     "metadata": {},
     "output_type": "execute_result"
    }
   ],
   "source": [
    "# Dataframe对象之间的运算\n",
    "frame1 = pd.DataFrame(np.arange(16).reshape(4,4),\n",
    "                     index=['a','b','c','d'],\n",
    "                     columns=[1,2,3,4])\n",
    "frame2 = pd.DataFrame(np.arange(16).reshape(4,4),\n",
    "                     index=['a','r','c','j'],\n",
    "                     columns=[0,2,3,8])\n",
    "print(frame1)\n",
    "print(frame2)\n",
    "print(\"=\"*30)\n",
    "frame1 + frame2"
   ]
  },
  {
   "cell_type": "markdown",
   "metadata": {},
   "source": [
    "数据结构之间的运算：\n",
    "add()   相加；\n",
    "sub()   相减；\n",
    "div()   相除；\n",
    "mul()   相乘；"
   ]
  },
  {
   "cell_type": "code",
   "execution_count": 49,
   "metadata": {},
   "outputs": [
    {
     "name": "stdout",
     "output_type": "stream",
     "text": [
      "    1   2   3   4\n",
      "a   0   2   4   6\n",
      "b   8  10  12  14\n",
      "c  16  18  20  22\n",
      "d  24  26  28  30\n",
      "==============================\n",
      "   1  2  3  4\n",
      "a  0  0  0  0\n",
      "b  0  0  0  0\n",
      "c  0  0  0  0\n",
      "d  0  0  0  0\n",
      "==============================\n",
      "     1    2    3    4\n",
      "a    0    1    4    9\n",
      "b   16   25   36   49\n",
      "c   64   81  100  121\n",
      "d  144  169  196  225\n",
      "==============================\n",
      "     1    2    3    4\n",
      "a  NaN  1.0  1.0  1.0\n",
      "b  1.0  1.0  1.0  1.0\n",
      "c  1.0  1.0  1.0  1.0\n",
      "d  1.0  1.0  1.0  1.0\n"
     ]
    }
   ],
   "source": [
    "frame1 = pd.DataFrame(np.arange(16).reshape(4,4),\n",
    "                     index=['a','b','c','d'],\n",
    "                     columns=[1,2,3,4])\n",
    "frame2 = pd.DataFrame(np.arange(16).reshape(4,4),\n",
    "                     index=['a','b','c','d'],\n",
    "                     columns=[1,2,3,4])\n",
    "\n",
    "print(frame1.add(frame2))    # 相加\n",
    "print(\"=\"*30)\n",
    "print(frame1.sub(frame2))    # 相减\n",
    "print(\"=\"*30)\n",
    "print(frame1.mul(frame2))    # 相乘\n",
    "print(\"=\"*30)\n",
    "print(frame1.div(frame2))    # 相除"
   ]
  },
  {
   "cell_type": "code",
   "execution_count": 2,
   "metadata": {},
   "outputs": [
    {
     "name": "stdout",
     "output_type": "stream",
     "text": [
      "white  up       0.208416\n",
      "       right    0.755918\n",
      "       down     0.762875\n",
      "blue   up       0.461128\n",
      "       right    0.100627\n",
      "       up       0.805978\n",
      "red    right    0.751424\n",
      "       down     0.096177\n",
      "dtype: float64\n"
     ]
    }
   ],
   "source": [
    "# 等级索引和分级，下面是简单的包含两列索引的Series对象\n",
    "\n",
    "import numpy as np\n",
    "import pandas as pd \n",
    "\n",
    "mser = pd.Series(np.random.rand(8),index=[['white','white','white','blue','blue','blue','red','red'],\n",
    "                                         ['up','right','down','up','right','up','right','down']])\n",
    "print(mser)"
   ]
  },
  {
   "cell_type": "code",
   "execution_count": 4,
   "metadata": {},
   "outputs": [
    {
     "data": {
      "text/plain": [
       "MultiIndex(levels=[['blue', 'red', 'white'], ['down', 'right', 'up']],\n",
       "           labels=[[2, 2, 2, 0, 0, 0, 1, 1], [2, 1, 0, 2, 1, 2, 1, 0]])"
      ]
     },
     "execution_count": 4,
     "metadata": {},
     "output_type": "execute_result"
    }
   ],
   "source": [
    "mser.index   # "
   ]
  },
  {
   "cell_type": "code",
   "execution_count": 6,
   "metadata": {},
   "outputs": [
    {
     "data": {
      "text/plain": [
       "up       0.208416\n",
       "right    0.755918\n",
       "down     0.762875\n",
       "dtype: float64"
      ]
     },
     "execution_count": 6,
     "metadata": {},
     "output_type": "execute_result"
    }
   ],
   "source": [
    "# 通过索引选取元素\n",
    "mser['white']"
   ]
  },
  {
   "cell_type": "code",
   "execution_count": 11,
   "metadata": {},
   "outputs": [
    {
     "data": {
      "text/plain": [
       "white    0.208416\n",
       "blue     0.461128\n",
       "blue     0.805978\n",
       "dtype: float64"
      ]
     },
     "execution_count": 11,
     "metadata": {},
     "output_type": "execute_result"
    }
   ],
   "source": [
    "# 选取第二列索引中的某一索引项元素\n",
    "mser[ : ,'up']\n"
   ]
  },
  {
   "cell_type": "code",
   "execution_count": 15,
   "metadata": {},
   "outputs": [
    {
     "data": {
      "text/html": [
       "<div>\n",
       "<style scoped>\n",
       "    .dataframe tbody tr th:only-of-type {\n",
       "        vertical-align: middle;\n",
       "    }\n",
       "\n",
       "    .dataframe tbody tr th {\n",
       "        vertical-align: top;\n",
       "    }\n",
       "\n",
       "    .dataframe thead th {\n",
       "        text-align: right;\n",
       "    }\n",
       "</style>\n",
       "<table border=\"1\" class=\"dataframe\">\n",
       "  <thead>\n",
       "    <tr style=\"text-align: right;\">\n",
       "      <th></th>\n",
       "      <th>down</th>\n",
       "      <th>right</th>\n",
       "      <th>up</th>\n",
       "    </tr>\n",
       "  </thead>\n",
       "  <tbody>\n",
       "    <tr>\n",
       "      <th>blue</th>\n",
       "      <td>0.098925</td>\n",
       "      <td>0.865545</td>\n",
       "      <td>0.170421</td>\n",
       "    </tr>\n",
       "    <tr>\n",
       "      <th>red</th>\n",
       "      <td>NaN</td>\n",
       "      <td>0.572834</td>\n",
       "      <td>0.354113</td>\n",
       "    </tr>\n",
       "    <tr>\n",
       "      <th>white</th>\n",
       "      <td>0.290347</td>\n",
       "      <td>0.110232</td>\n",
       "      <td>0.842834</td>\n",
       "    </tr>\n",
       "  </tbody>\n",
       "</table>\n",
       "</div>"
      ],
      "text/plain": [
       "           down     right        up\n",
       "blue   0.098925  0.865545  0.170421\n",
       "red         NaN  0.572834  0.354113\n",
       "white  0.290347  0.110232  0.842834"
      ]
     },
     "execution_count": 15,
     "metadata": {},
     "output_type": "execute_result"
    }
   ],
   "source": [
    "# 使用unstack()函数可以将等级索引的Series对象转换为一个简单的DataFrame对象\n",
    "import numpy as np\n",
    "import pandas as pd \n",
    "\n",
    "mser = pd.Series(np.random.rand(8),index=[['white','white','white','blue','blue','blue','red','red'],\n",
    "                                         ['up','right','down','up','right','down','up','right',]])\n",
    "mser.unstack()"
   ]
  },
  {
   "cell_type": "code",
   "execution_count": 8,
   "metadata": {},
   "outputs": [
    {
     "data": {
      "text/plain": [
       "blue   down      0\n",
       "       left      1\n",
       "       right     2\n",
       "       up        3\n",
       "red    down      4\n",
       "       left      5\n",
       "       right     6\n",
       "       up        7\n",
       "black  down      8\n",
       "       left      9\n",
       "       right    10\n",
       "       up       11\n",
       "dtype: int32"
      ]
     },
     "execution_count": 8,
     "metadata": {},
     "output_type": "execute_result"
    }
   ],
   "source": [
    "# 使用stack()可以将DataFrame对象转换为Series对象\n",
    "import numpy as np\n",
    "import pandas as pd \n",
    "\n",
    "frame = pd.DataFrame(np.arange(12).reshape(3,4),index=['blue','red','black'],\n",
    "                    columns =['down','left','right','up'])\n",
    "frame.stack()"
   ]
  },
  {
   "cell_type": "code",
   "execution_count": 20,
   "metadata": {},
   "outputs": [
    {
     "data": {
      "text/html": [
       "<div>\n",
       "<style scoped>\n",
       "    .dataframe tbody tr th:only-of-type {\n",
       "        vertical-align: middle;\n",
       "    }\n",
       "\n",
       "    .dataframe tbody tr th {\n",
       "        vertical-align: top;\n",
       "    }\n",
       "\n",
       "    .dataframe thead tr th {\n",
       "        text-align: left;\n",
       "    }\n",
       "</style>\n",
       "<table border=\"1\" class=\"dataframe\">\n",
       "  <thead>\n",
       "    <tr>\n",
       "      <th></th>\n",
       "      <th></th>\n",
       "      <th colspan=\"2\" halign=\"left\">down</th>\n",
       "      <th colspan=\"2\" halign=\"left\">up</th>\n",
       "    </tr>\n",
       "    <tr>\n",
       "      <th></th>\n",
       "      <th></th>\n",
       "      <th>1</th>\n",
       "      <th>2</th>\n",
       "      <th>1</th>\n",
       "      <th>2</th>\n",
       "    </tr>\n",
       "  </thead>\n",
       "  <tbody>\n",
       "    <tr>\n",
       "      <th rowspan=\"2\" valign=\"top\">blue</th>\n",
       "      <th>1</th>\n",
       "      <td>0</td>\n",
       "      <td>1</td>\n",
       "      <td>2</td>\n",
       "      <td>3</td>\n",
       "    </tr>\n",
       "    <tr>\n",
       "      <th>2</th>\n",
       "      <td>4</td>\n",
       "      <td>5</td>\n",
       "      <td>6</td>\n",
       "      <td>7</td>\n",
       "    </tr>\n",
       "    <tr>\n",
       "      <th rowspan=\"2\" valign=\"top\">red</th>\n",
       "      <th>3</th>\n",
       "      <td>8</td>\n",
       "      <td>9</td>\n",
       "      <td>10</td>\n",
       "      <td>11</td>\n",
       "    </tr>\n",
       "    <tr>\n",
       "      <th>4</th>\n",
       "      <td>12</td>\n",
       "      <td>13</td>\n",
       "      <td>14</td>\n",
       "      <td>15</td>\n",
       "    </tr>\n",
       "  </tbody>\n",
       "</table>\n",
       "</div>"
      ],
      "text/plain": [
       "       down      up    \n",
       "          1   2   1   2\n",
       "blue 1    0   1   2   3\n",
       "     2    4   5   6   7\n",
       "red  3    8   9  10  11\n",
       "     4   12  13  14  15"
      ]
     },
     "execution_count": 20,
     "metadata": {},
     "output_type": "execute_result"
    }
   ],
   "source": [
    "import numpy as np\n",
    "import pandas as pd \n",
    "\n",
    "frame = pd.DataFrame(np.arange(16).reshape(4,4),index=[['blue','blue','red','red'],[1,2,3,4]],\n",
    "                    columns =[['down','down','up','up'],[1,2,1,2]])\n",
    "frame"
   ]
  },
  {
   "cell_type": "code",
   "execution_count": 21,
   "metadata": {},
   "outputs": [
    {
     "name": "stdout",
     "output_type": "stream",
     "text": [
      "object down      up    \n",
      "id        1   2   1   2\n",
      "blue 1    0   1   2   3\n",
      "     2    4   5   6   7\n",
      "red  3    8   9  10  11\n",
      "     4   12  13  14  15\n"
     ]
    }
   ],
   "source": [
    "\n",
    "frame.columns.names = ['object','id']\n",
    "print(frame)"
   ]
  },
  {
   "cell_type": "code",
   "execution_count": 22,
   "metadata": {},
   "outputs": [
    {
     "name": "stdout",
     "output_type": "stream",
     "text": [
      "object        down      up    \n",
      "id               1   2   1   2\n",
      "colors status                 \n",
      "blue   1         0   1   2   3\n",
      "       2         4   5   6   7\n",
      "red    3         8   9  10  11\n",
      "       4        12  13  14  15\n"
     ]
    }
   ],
   "source": [
    "frame.index.names = ['colors','status']\n",
    "print(frame)"
   ]
  },
  {
   "cell_type": "code",
   "execution_count": 25,
   "metadata": {},
   "outputs": [
    {
     "data": {
      "text/html": [
       "<div>\n",
       "<style scoped>\n",
       "    .dataframe tbody tr th:only-of-type {\n",
       "        vertical-align: middle;\n",
       "    }\n",
       "\n",
       "    .dataframe tbody tr th {\n",
       "        vertical-align: top;\n",
       "    }\n",
       "\n",
       "    .dataframe thead tr th {\n",
       "        text-align: left;\n",
       "    }\n",
       "\n",
       "    .dataframe thead tr:last-of-type th {\n",
       "        text-align: right;\n",
       "    }\n",
       "</style>\n",
       "<table border=\"1\" class=\"dataframe\">\n",
       "  <thead>\n",
       "    <tr>\n",
       "      <th></th>\n",
       "      <th>object</th>\n",
       "      <th colspan=\"2\" halign=\"left\">down</th>\n",
       "      <th colspan=\"2\" halign=\"left\">up</th>\n",
       "    </tr>\n",
       "    <tr>\n",
       "      <th></th>\n",
       "      <th>id</th>\n",
       "      <th>1</th>\n",
       "      <th>2</th>\n",
       "      <th>1</th>\n",
       "      <th>2</th>\n",
       "    </tr>\n",
       "    <tr>\n",
       "      <th>status</th>\n",
       "      <th>colors</th>\n",
       "      <th></th>\n",
       "      <th></th>\n",
       "      <th></th>\n",
       "      <th></th>\n",
       "    </tr>\n",
       "  </thead>\n",
       "  <tbody>\n",
       "    <tr>\n",
       "      <th>1</th>\n",
       "      <th>blue</th>\n",
       "      <td>0</td>\n",
       "      <td>1</td>\n",
       "      <td>2</td>\n",
       "      <td>3</td>\n",
       "    </tr>\n",
       "    <tr>\n",
       "      <th>2</th>\n",
       "      <th>blue</th>\n",
       "      <td>4</td>\n",
       "      <td>5</td>\n",
       "      <td>6</td>\n",
       "      <td>7</td>\n",
       "    </tr>\n",
       "    <tr>\n",
       "      <th>3</th>\n",
       "      <th>red</th>\n",
       "      <td>8</td>\n",
       "      <td>9</td>\n",
       "      <td>10</td>\n",
       "      <td>11</td>\n",
       "    </tr>\n",
       "    <tr>\n",
       "      <th>4</th>\n",
       "      <th>red</th>\n",
       "      <td>12</td>\n",
       "      <td>13</td>\n",
       "      <td>14</td>\n",
       "      <td>15</td>\n",
       "    </tr>\n",
       "  </tbody>\n",
       "</table>\n",
       "</div>"
      ],
      "text/plain": [
       "object        down      up    \n",
       "id               1   2   1   2\n",
       "status colors                 \n",
       "1      blue      0   1   2   3\n",
       "2      blue      4   5   6   7\n",
       "3      red       8   9  10  11\n",
       "4      red      12  13  14  15"
      ]
     },
     "execution_count": 25,
     "metadata": {},
     "output_type": "execute_result"
    }
   ],
   "source": [
    "# swaplevel()函数以要互换位置的两个层级的名称为参数，返回交换位置后的一个新的对象\n",
    "# 其余各元素的顺序保持不变\n",
    "frame.swaplevel('colors','status')"
   ]
  },
  {
   "cell_type": "code",
   "execution_count": 31,
   "metadata": {},
   "outputs": [
    {
     "data": {
      "text/html": [
       "<div>\n",
       "<style scoped>\n",
       "    .dataframe tbody tr th:only-of-type {\n",
       "        vertical-align: middle;\n",
       "    }\n",
       "\n",
       "    .dataframe tbody tr th {\n",
       "        vertical-align: top;\n",
       "    }\n",
       "\n",
       "    .dataframe thead tr th {\n",
       "        text-align: left;\n",
       "    }\n",
       "\n",
       "    .dataframe thead tr:last-of-type th {\n",
       "        text-align: right;\n",
       "    }\n",
       "</style>\n",
       "<table border=\"1\" class=\"dataframe\">\n",
       "  <thead>\n",
       "    <tr>\n",
       "      <th></th>\n",
       "      <th>object</th>\n",
       "      <th colspan=\"2\" halign=\"left\">down</th>\n",
       "      <th colspan=\"2\" halign=\"left\">up</th>\n",
       "    </tr>\n",
       "    <tr>\n",
       "      <th></th>\n",
       "      <th>id</th>\n",
       "      <th>1</th>\n",
       "      <th>2</th>\n",
       "      <th>1</th>\n",
       "      <th>2</th>\n",
       "    </tr>\n",
       "    <tr>\n",
       "      <th>colors</th>\n",
       "      <th>status</th>\n",
       "      <th></th>\n",
       "      <th></th>\n",
       "      <th></th>\n",
       "      <th></th>\n",
       "    </tr>\n",
       "  </thead>\n",
       "  <tbody>\n",
       "    <tr>\n",
       "      <th rowspan=\"2\" valign=\"top\">blue</th>\n",
       "      <th>1</th>\n",
       "      <td>0</td>\n",
       "      <td>1</td>\n",
       "      <td>2</td>\n",
       "      <td>3</td>\n",
       "    </tr>\n",
       "    <tr>\n",
       "      <th>2</th>\n",
       "      <td>4</td>\n",
       "      <td>5</td>\n",
       "      <td>6</td>\n",
       "      <td>7</td>\n",
       "    </tr>\n",
       "    <tr>\n",
       "      <th rowspan=\"2\" valign=\"top\">red</th>\n",
       "      <th>3</th>\n",
       "      <td>8</td>\n",
       "      <td>9</td>\n",
       "      <td>10</td>\n",
       "      <td>11</td>\n",
       "    </tr>\n",
       "    <tr>\n",
       "      <th>4</th>\n",
       "      <td>12</td>\n",
       "      <td>13</td>\n",
       "      <td>14</td>\n",
       "      <td>15</td>\n",
       "    </tr>\n",
       "  </tbody>\n",
       "</table>\n",
       "</div>"
      ],
      "text/plain": [
       "object        down      up    \n",
       "id               1   2   1   2\n",
       "colors status                 \n",
       "blue   1         0   1   2   3\n",
       "       2         4   5   6   7\n",
       "red    3         8   9  10  11\n",
       "       4        12  13  14  15"
      ]
     },
     "execution_count": 31,
     "metadata": {},
     "output_type": "execute_result"
    }
   ],
   "source": [
    "# sortlevel（）函数之更具一个层级对数据排序\n",
    "frame.sort_index(level=\"colors\")  # 等于frame.sortlevel(\"colors\")但是这一个已经被前者代替"
   ]
  },
  {
   "cell_type": "code",
   "execution_count": 36,
   "metadata": {},
   "outputs": [
    {
     "data": {
      "text/html": [
       "<div>\n",
       "<style scoped>\n",
       "    .dataframe tbody tr th:only-of-type {\n",
       "        vertical-align: middle;\n",
       "    }\n",
       "\n",
       "    .dataframe tbody tr th {\n",
       "        vertical-align: top;\n",
       "    }\n",
       "\n",
       "    .dataframe thead tr th {\n",
       "        text-align: left;\n",
       "    }\n",
       "\n",
       "    .dataframe thead tr:last-of-type th {\n",
       "        text-align: right;\n",
       "    }\n",
       "</style>\n",
       "<table border=\"1\" class=\"dataframe\">\n",
       "  <thead>\n",
       "    <tr>\n",
       "      <th>object</th>\n",
       "      <th colspan=\"2\" halign=\"left\">down</th>\n",
       "      <th colspan=\"2\" halign=\"left\">up</th>\n",
       "    </tr>\n",
       "    <tr>\n",
       "      <th>id</th>\n",
       "      <th>1</th>\n",
       "      <th>2</th>\n",
       "      <th>1</th>\n",
       "      <th>2</th>\n",
       "    </tr>\n",
       "    <tr>\n",
       "      <th>colors</th>\n",
       "      <th></th>\n",
       "      <th></th>\n",
       "      <th></th>\n",
       "      <th></th>\n",
       "    </tr>\n",
       "  </thead>\n",
       "  <tbody>\n",
       "    <tr>\n",
       "      <th>blue</th>\n",
       "      <td>4</td>\n",
       "      <td>6</td>\n",
       "      <td>8</td>\n",
       "      <td>10</td>\n",
       "    </tr>\n",
       "    <tr>\n",
       "      <th>red</th>\n",
       "      <td>20</td>\n",
       "      <td>22</td>\n",
       "      <td>24</td>\n",
       "      <td>26</td>\n",
       "    </tr>\n",
       "  </tbody>\n",
       "</table>\n",
       "</div>"
      ],
      "text/plain": [
       "object down      up    \n",
       "id        1   2   1   2\n",
       "colors                 \n",
       "blue      4   6   8  10\n",
       "red      20  22  24  26"
      ]
     },
     "execution_count": 36,
     "metadata": {},
     "output_type": "execute_result"
    }
   ],
   "source": [
    "# 对一行层级进行统计，把层级的名称赋予level选项\n",
    "frame.sum(level='colors')\n"
   ]
  },
  {
   "cell_type": "code",
   "execution_count": 37,
   "metadata": {},
   "outputs": [
    {
     "data": {
      "text/html": [
       "<div>\n",
       "<style scoped>\n",
       "    .dataframe tbody tr th:only-of-type {\n",
       "        vertical-align: middle;\n",
       "    }\n",
       "\n",
       "    .dataframe tbody tr th {\n",
       "        vertical-align: top;\n",
       "    }\n",
       "\n",
       "    .dataframe thead th {\n",
       "        text-align: right;\n",
       "    }\n",
       "</style>\n",
       "<table border=\"1\" class=\"dataframe\">\n",
       "  <thead>\n",
       "    <tr style=\"text-align: right;\">\n",
       "      <th></th>\n",
       "      <th>id</th>\n",
       "      <th>1</th>\n",
       "      <th>2</th>\n",
       "    </tr>\n",
       "    <tr>\n",
       "      <th>colors</th>\n",
       "      <th>status</th>\n",
       "      <th></th>\n",
       "      <th></th>\n",
       "    </tr>\n",
       "  </thead>\n",
       "  <tbody>\n",
       "    <tr>\n",
       "      <th rowspan=\"2\" valign=\"top\">blue</th>\n",
       "      <th>1</th>\n",
       "      <td>2</td>\n",
       "      <td>4</td>\n",
       "    </tr>\n",
       "    <tr>\n",
       "      <th>2</th>\n",
       "      <td>10</td>\n",
       "      <td>12</td>\n",
       "    </tr>\n",
       "    <tr>\n",
       "      <th rowspan=\"2\" valign=\"top\">red</th>\n",
       "      <th>3</th>\n",
       "      <td>18</td>\n",
       "      <td>20</td>\n",
       "    </tr>\n",
       "    <tr>\n",
       "      <th>4</th>\n",
       "      <td>26</td>\n",
       "      <td>28</td>\n",
       "    </tr>\n",
       "  </tbody>\n",
       "</table>\n",
       "</div>"
      ],
      "text/plain": [
       "id              1   2\n",
       "colors status        \n",
       "blue   1        2   4\n",
       "       2       10  12\n",
       "red    3       18  20\n",
       "       4       26  28"
      ]
     },
     "execution_count": 37,
     "metadata": {},
     "output_type": "execute_result"
    }
   ],
   "source": [
    "# 对一列层级进行统计，把层级的名称赋予level选项，axis=1\n",
    "frame.sum(level=\"id\",axis=1)"
   ]
  }
 ],
 "metadata": {
  "kernelspec": {
   "display_name": "Python 3",
   "language": "python",
   "name": "python3"
  },
  "language_info": {
   "codemirror_mode": {
    "name": "ipython",
    "version": 3
   },
   "file_extension": ".py",
   "mimetype": "text/x-python",
   "name": "python",
   "nbconvert_exporter": "python",
   "pygments_lexer": "ipython3",
   "version": "3.7.0"
  }
 },
 "nbformat": 4,
 "nbformat_minor": 2
}
